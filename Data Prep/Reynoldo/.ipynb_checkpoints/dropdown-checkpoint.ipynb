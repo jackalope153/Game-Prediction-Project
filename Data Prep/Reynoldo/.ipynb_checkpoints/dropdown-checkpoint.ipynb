{
 "cells": [
  {
   "cell_type": "code",
   "execution_count": 201,
   "metadata": {},
   "outputs": [],
   "source": [
    "# !conda install -c conda-forge ipywidgets\n",
    "# !pip install ipywidgets\n",
    "# !jupyter nbextension enable --py widgetsnbextension"
   ]
  },
  {
   "cell_type": "code",
   "execution_count": 4,
   "metadata": {},
   "outputs": [],
   "source": [
    "# import functools\n",
    "import pandas as pd\n",
    "import numpy as np\n",
    "import ipywidgets as widgets\n",
    "from IPython.display import display, clear_output\n",
    "\n",
    "df_pitcher = pd.read_csv('pitch_2020.csv')\n",
    "df_pitcher['Option'] = [f'{team} - {player}' for team, player in zip(df_pitcher.Team, df_pitcher.Player)]    \n",
    "# df_pitcher.head()"
   ]
  },
  {
   "cell_type": "code",
   "execution_count": 5,
   "metadata": {},
   "outputs": [],
   "source": [
    "selected_starting_pitcher = None\n",
    "selected_opposing_pitcher = None\n",
    "selected_starting_pitcher_home_or_away = None\n",
    "default_starting_pitcher = 'Choose your starting pitcher'\n",
    "default_opposing_pitcher = 'Choose your opposing pitcher'\n",
    "default_home_or_away = 'Choose starting pitcher (Home or Away)'\n",
    "\n",
    "def unique_sorted_values_plus_ALL(array, default):\n",
    "    unique = array.unique().tolist()\n",
    "    unique.sort()\n",
    "    unique.insert(0, default)\n",
    "    return unique\n",
    "\n",
    "def home_and_away():\n",
    "    unique = [ 'Home', 'Away']    \n",
    "    unique.insert(0, default_home_or_away)\n",
    "    return unique\n",
    "\n",
    "def dropdown_starting_pitcher_eventhandler(change):    \n",
    "    selected_starting_pitcher = None if change.new == default_starting_pitcher else change.new\n",
    "#     print(selected_starting_pitcher)\n",
    "\n",
    "def dropdown_opposing_pitcher_eventhandler(change):\n",
    "    selected_opposing_pitcher = None if change.new == default_opposing_pitcher else change.new    \n",
    "#     print(selected_opposing_pitcher)\n",
    "\n",
    "def dropdown_home_or_away_eventhandler(change):\n",
    "    selected_starting_pitcher_home_or_away = None if change.new == default_home_or_away else change.new\n",
    "#     print(selected_starting_pitcher_home_or_away)\n",
    "\n",
    "def reset_on_button_clicked(obj):\n",
    "    dropdown_starting_pitcher.value = default_starting_pitcher\n",
    "    dropdown_opposing_pitcher.value = default_opposing_pitcher\n",
    "    dropdown_home_or_away.value = default_home_or_away\n",
    "    with output:\n",
    "        clear_output()\n",
    "    \n",
    "def predict_on_button_clicked(obj):             \n",
    "    predict_game(\n",
    "        starting_pitcher = dropdown_starting_pitcher.value.split(' - ')[1], \n",
    "        opposing_pitcher = dropdown_opposing_pitcher.value.split(' - ')[1], \n",
    "        home_or_away = dropdown_home_or_away.value)    \n",
    "    \n",
    "def predict_game(starting_pitcher, opposing_pitcher, home_or_away):\n",
    "    # VU ADD THE MODEL PREDICTION CODE HERE, THEN PRINT RESULTS\n",
    "    results = 'Astros will win!'    \n",
    "    \n",
    "    with output:\n",
    "        clear_output()\n",
    "        print(results)"
   ]
  },
  {
   "cell_type": "code",
   "execution_count": 6,
   "metadata": {},
   "outputs": [
    {
     "data": {
      "application/vnd.jupyter.widget-view+json": {
       "model_id": "ee9b33fffad74798ae7a4e67cd12bdb9",
       "version_major": 2,
       "version_minor": 0
      },
      "text/plain": [
       "Dropdown(description='Starting pitcher:', layout=Layout(width='380px'), options=('Choose your starting pitcher…"
      ]
     },
     "metadata": {},
     "output_type": "display_data"
    },
    {
     "data": {
      "application/vnd.jupyter.widget-view+json": {
       "model_id": "d851b9c5da3544f0b520220d6c1ddb50",
       "version_major": 2,
       "version_minor": 0
      },
      "text/plain": [
       "Dropdown(description='Opposing pitcher:', layout=Layout(width='380px'), options=('Choose your opposing pitcher…"
      ]
     },
     "metadata": {},
     "output_type": "display_data"
    },
    {
     "data": {
      "application/vnd.jupyter.widget-view+json": {
       "model_id": "828ec5f619ad41c783086753caa6ce93",
       "version_major": 2,
       "version_minor": 0
      },
      "text/plain": [
       "Dropdown(description='Home/Away:', layout=Layout(width='380px'), options=('Choose starting pitcher (Home or Aw…"
      ]
     },
     "metadata": {},
     "output_type": "display_data"
    },
    {
     "data": {
      "application/vnd.jupyter.widget-view+json": {
       "model_id": "cf7df2d535d44064aaa548fead41f9b4",
       "version_major": 2,
       "version_minor": 0
      },
      "text/plain": [
       "HBox(children=(Button(description=\"I'm feeling lucky!\", style=ButtonStyle()), Button(description='Clear', styl…"
      ]
     },
     "metadata": {},
     "output_type": "display_data"
    },
    {
     "data": {
      "application/vnd.jupyter.widget-view+json": {
       "model_id": "37016cb4b2084c94ae93b131e37cbf3d",
       "version_major": 2,
       "version_minor": 0
      },
      "text/plain": [
       "Output()"
      ]
     },
     "metadata": {},
     "output_type": "display_data"
    }
   ],
   "source": [
    "dropdown_starting_pitcher = widgets.Dropdown(\n",
    "    description = 'Starting pitcher:'\n",
    "    , style={'description_width': '110px'}\n",
    "    , layout={'width': '380px'}\n",
    "    , options = unique_sorted_values_plus_ALL(df_pitcher[df_pitcher['Team'] == 'HOU'].Option\n",
    "    , default_starting_pitcher)\n",
    ")\n",
    "dropdown_starting_pitcher.observe(dropdown_starting_pitcher_eventhandler, names='value')\n",
    "display(dropdown_starting_pitcher)\n",
    "\n",
    "dropdown_opposing_pitcher = widgets.Dropdown(\n",
    "    description = 'Opposing pitcher:'\n",
    "    , style={'description_width': '110px'}\n",
    "    , layout={'width': '380px'}\n",
    "    , options = unique_sorted_values_plus_ALL(df_pitcher[df_pitcher['Team'] != 'HOU'].Option\n",
    "    , default_opposing_pitcher)\n",
    ")\n",
    "dropdown_opposing_pitcher.observe(dropdown_opposing_pitcher_eventhandler, names='value')\n",
    "display(dropdown_opposing_pitcher)\n",
    "\n",
    "dropdown_home_or_away = widgets.Dropdown(\n",
    "    description = 'Home/Away:'\n",
    "    , style={'description_width': '110px'}\n",
    "    , layout={'width': '380px'}\n",
    "    , options = home_and_away()\n",
    ")\n",
    "dropdown_home_or_away.observe(dropdown_home_or_away_eventhandler, names='value')\n",
    "display(dropdown_home_or_away)\n",
    "\n",
    "predict_btn = widgets.Button(\n",
    "    description='I\\'m feeling lucky!'\n",
    "    , style={'description_width': '100px'}    \n",
    ")\n",
    "predict_btn.on_click(predict_on_button_clicked)\n",
    "\n",
    "reset_btn = widgets.Button(\n",
    "    description='Clear'\n",
    "    , style={'description_width': '100px'}    \n",
    ")\n",
    "reset_btn.on_click(reset_on_button_clicked)\n",
    "\n",
    "display(\n",
    "    widgets.HBox((predict_btn, reset_btn))\n",
    ")\n",
    "\n",
    "output = widgets.Output()\n",
    "display(output)"
   ]
  },
  {
   "cell_type": "code",
   "execution_count": null,
   "metadata": {},
   "outputs": [],
   "source": []
  }
 ],
 "metadata": {
  "kernelspec": {
   "display_name": "Python 3.7.7 64-bit ('pyvizenv': conda)",
   "language": "python",
   "name": "python37764bitpyvizenvconda0dc645e3ea2144fc877efffc78381ef1"
  },
  "language_info": {
   "codemirror_mode": {
    "name": "ipython",
    "version": 3
   },
   "file_extension": ".py",
   "mimetype": "text/x-python",
   "name": "python",
   "nbconvert_exporter": "python",
   "pygments_lexer": "ipython3",
   "version": "3.7.7"
  }
 },
 "nbformat": 4,
 "nbformat_minor": 4
}
