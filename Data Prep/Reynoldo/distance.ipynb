{
 "metadata": {
  "language_info": {
   "codemirror_mode": {
    "name": "ipython",
    "version": 3
   },
   "file_extension": ".py",
   "mimetype": "text/x-python",
   "name": "python",
   "nbconvert_exporter": "python",
   "pygments_lexer": "ipython3",
   "version": "3.7.7-final"
  },
  "orig_nbformat": 2,
  "kernelspec": {
   "name": "python37764bitdevconda8fd94b8604ed4ef08be978074ee9813c",
   "display_name": "Python 3.7.7 64-bit ('dev': conda)",
   "metadata": {
    "interpreter": {
     "hash": "ac613f0bafa21738f99412658606b2cdb25619b766fce53a86722432d620944e"
    }
   }
  }
 },
 "nbformat": 4,
 "nbformat_minor": 2,
 "cells": [
  {
   "source": [
    "# Add distance as a feature for the model"
   ],
   "cell_type": "markdown",
   "metadata": {}
  },
  {
   "cell_type": "code",
   "execution_count": 376,
   "metadata": {
    "tags": []
   },
   "outputs": [],
   "source": [
    "from dotenv import load_dotenv\n",
    "import os\n",
    "import requests\n",
    "import json\n",
    "import pandas as pd"
   ]
  },
  {
   "source": [
    "### Use ZipCode API to get the distance between 2 zip codes"
   ],
   "cell_type": "markdown",
   "metadata": {}
  },
  {
   "cell_type": "code",
   "execution_count": 381,
   "metadata": {
    "tags": []
   },
   "outputs": [],
   "source": [
    "load_dotenv()\n",
    "\n",
    "zipcode_api_key = os.getenv(\"ZIPCODE_API_KEY\") \n",
    "zipcode_api_key = 'fjf6y8FPeH5v2RyDScQ5FXfOQPOznHdjWUROZ4VvIlW5KWYWMiz3cUH4nRwJQqlk'\n",
    "\n",
    "def get_distance_in_miles(home_team_zip, away_team_zip):    \n",
    "    response_data = requests.get(f'http://www.zipcodeapi.com/rest/{zipcode_api_key}/distance.json/{home_team_zip}/{away_team_zip}/mile')\n",
    "    data = response_data.json()\n",
    "\n",
    "    return data['distance']"
   ]
  },
  {
   "source": [
    "### Get the distance between a home and an away team's stadium"
   ],
   "cell_type": "markdown",
   "metadata": {}
  },
  {
   "cell_type": "code",
   "execution_count": 382,
   "metadata": {
    "tags": []
   },
   "outputs": [],
   "source": [
    "def get_home_away_distance_in_miles(home_team_code, away_team_code):\n",
    "    \n",
    "    teams = [\n",
    "        { 'team': 'ARI', 'name': 'Arizona Diamondbacks', 'address': '401 E Jefferson St, Phoenix, AZ 85004' },\n",
    "        { 'team': 'ATL', 'name': 'Atlanta Braves',  'address': '755 Battery Ave SE, Atlanta, GA 30339' },\n",
    "        { 'team': 'BAL', 'name': 'Baltimore Orioles', 'address': '333 W Camden St, Baltimore, MD 21201' },\n",
    "        { 'team': 'BOS', 'name': 'Boston Red Sox', 'address': '4 Jersey St, Boston, MA 02215' },\n",
    "        { 'team': 'CHA', 'name': 'Chicago White Sox', 'address': '333 W 35th St, Chicago, IL 60616'},\n",
    "        { 'team': 'CHN', 'name': 'Chicago Cubs', 'address': '1060 W Addison St, Chicago, IL 60613' },\n",
    "        { 'team': 'CIN', 'name': 'Cincinnati Reds', 'address': '100 Joe Nuxhall Way, Cincinnati, OH 45202' }, \n",
    "        { 'team': 'CLE', 'name': 'Cleveland Indians', 'address': '2401 Ontario St, Cleveland, OH 44115' },\n",
    "        { 'team': 'COL', 'name': 'Colorado Rockies', 'address': '2001 Blake St, Denver, CO 80205' },\n",
    "        { 'team': 'DET', 'name': 'Detroit Tigers', 'address': '2100 Woodward Ave, Detroit, MI 48201' },\n",
    "        { 'team': 'HOU', 'name': 'Houston Astros', 'address': '501 Crawford St, Houston, TX 77002' },\n",
    "        { 'team': 'KCA', 'name': 'Kansas City Royals', 'address': '1 Royal Way, Kansas City, MO 64129' },\n",
    "        { 'team': 'ANA', 'name': 'Los Angeles Angels', 'address': '2000 E Gene Autry Way, Anaheim, CA 92806' },\n",
    "        { 'team': 'LAN', 'name': 'Los Angeles Dodgers', 'address': '1000 Vin Scully Ave, Los Angeles, CA 90012' },\n",
    "        { 'team': 'MIA', 'name': 'Miami Marlins', 'address': '501 Marlins Way, Miami, FL 33125' },\n",
    "        { 'team': 'MIL', 'name': 'Milwaukee Brewers', 'address': '1 Brewers Way, Milwaukee, WI 53214' },\n",
    "        { 'team': 'MIN', 'name': 'Minnesota Twins', 'address': '1 Twins Way, Minneapolis, MN 55403' },\n",
    "        { 'team': 'NYA', 'name': 'New York Yankees', 'address': '1 E 161 St, The Bronx, NY 10451' },\n",
    "        { 'team': 'NYN', 'name': 'New York Mets', 'address': '41 Seaver Way, Queens, NY 11368' },\n",
    "        { 'team': 'OAK', 'name': 'Oakland Athletics', 'address': '7000 Coliseum Way, Oakland, CA 94621' },\n",
    "        { 'team': 'PHI', 'name': 'Philadelphia Phillies', 'address': '1 Citizens Bank Way, Philadelphia, PA 19148' },\n",
    "        { 'team': 'PIT', 'name': 'Pittsburgh Pirates', 'address': '115 Federal St, Pittsburgh, PA 15212' },\n",
    "        { 'team': 'SDN', 'name': 'San Diego Padres', 'address': '100 Park Blvd, San Diego, CA 92101' },\n",
    "        { 'team': 'SFN', 'name': 'San Francisco Giants', 'address': '24 Willie Mays Plaza, San Francisco, CA 94107' },\n",
    "        { 'team': 'SEA', 'name': 'Seattle Mariners', 'address': '1250 1st Ave S, Seattle, WA 98134' },\n",
    "        { 'team': 'SLN', 'name': 'St. Louis Cardinals', 'address': '700 Clark Ave, St. Louis, MO 63102' },\n",
    "        { 'team': 'TBA', 'name': 'Tampa Bay Rays', 'address': '1 Tropicana Dr., St. Petersburg, FL 33705' },\n",
    "        { 'team': 'TEX', 'name': 'Texas Rangers', 'address': '734 Stadium Dr, Arlington, TX 76011' },\n",
    "        { 'team': 'TOR', 'name': 'Toronto Blue Jays', 'address': '1 Blue Jays Way, Toronto, ON M5V 1J1, Canada' },\n",
    "        { 'team': 'WAS', 'name': 'Washington Nationals', 'address': '1500 S Capitol St SE, Washington, DC 20003' }\n",
    "    ]\n",
    "\n",
    "    teams_zip_df = pd.DataFrame.from_dict(teams)\n",
    "    # teams_zip_df['streetAddress'] = teams_zip_df['address'].str.split(',', expand=True)[0]\n",
    "    # teams_zip_df['city'] = teams_zip_df['address'].str.split(',', expand=True)[1]\n",
    "    # teams_zip_df['state'] = teams_zip_df['address'].str.split(',', expand=True)[2].str.split(' ', expand=True)[1]\n",
    "\n",
    "    # -- BLUE JAY'S POSTAL CODE IS DIFFERENT : IGNORE FOR NOW ----------------------------------------------------\n",
    "    \n",
    "    # teams_zip_df['zip'] = teams_zip_df[teams_zip_df['name'] == 'Toronto Blue Jays'].address.str.split(',', expand=True)[2].str.split(' ', expand=True)[2]\n",
    "    # teams_zip_df['zip'] = teams_zip_df[teams_zip_df['name'] == 'Toronto Blue Jays'].address.str.split(',', expand=True)[2]\n",
    "    # teams_zip_df[teams_zip_df['name'] == 'Toronto Blue Jays'].address.str.split(',', expand=True)[2].str.split(' ', expand=True)[2:3]\n",
    "    \n",
    "    # ------------------------------------------------------------------------------------------------------------\n",
    "\n",
    "    teams_zip_df['zip'] = teams_zip_df['address'].str.split(',', expand=True)[2].str.split(' ', expand=True)[2]\n",
    "    teams_zip_df.sort_values(\"team\", inplace=True) \n",
    "    teams_zip_df.set_index('team', inplace=True)    \n",
    "        \n",
    "    return get_distance_in_miles(\n",
    "        home_team_zip = teams_zip_df.loc[home_team_code]['zip'], \n",
    "        away_team_zip = teams_zip_df.loc[away_team_code]['zip'])"
   ]
  },
  {
   "source": [
    "## How to use \n",
    "\n",
    "### Import this notebook into your main notebook. Create a new column and fill the rows using a list comprehension with the above function. See the 'Distance' column below for results."
   ],
   "cell_type": "markdown",
   "metadata": {}
  },
  {
   "source": [
    "```python\n",
    "data = [\n",
    "        ['HOU', 'TEX', 5.511], \n",
    "        ['TBA', 'HOU', 1.251], \n",
    "        ['HOU', 'NYC', 6.015]        \n",
    "        ] \n",
    "\n",
    "data_df = pd.DataFrame(data, columns=['Home', 'Away', 'KPI-1']) \n",
    "data_df['Distance'] = [get_home_away_distance_in_miles(home, away) for home, away in zip(data_df.Home, data_df.Away)]\n",
    "data_df\n",
    "```"
   ],
   "cell_type": "markdown",
   "metadata": {
    "tags": []
   }
  }
 ]
}