{
 "metadata": {
  "language_info": {
   "codemirror_mode": {
    "name": "ipython",
    "version": 3
   },
   "file_extension": ".py",
   "mimetype": "text/x-python",
   "name": "python",
   "nbconvert_exporter": "python",
   "pygments_lexer": "ipython3",
   "version": "3.7.7-final"
  },
  "orig_nbformat": 2,
  "kernelspec": {
   "name": "python37764bitpyvizenvconda0dc645e3ea2144fc877efffc78381ef1",
   "display_name": "Python 3.7.7 64-bit ('pyvizenv': conda)"
  }
 },
 "nbformat": 4,
 "nbformat_minor": 2,
 "cells": [
  {
   "cell_type": "code",
   "execution_count": 201,
   "metadata": {},
   "outputs": [],
   "source": [
    "# !conda install -c conda-forge ipywidgets\n",
    "# !pip install ipywidgets\n",
    "# !jupyter nbextension enable --py widgetsnbextension"
   ]
  },
  {
   "cell_type": "code",
   "execution_count": 202,
   "metadata": {},
   "outputs": [],
   "source": [
    "# import functools\n",
    "import pandas as pd\n",
    "import numpy as np\n",
    "import ipywidgets as widgets\n",
    "from IPython.display import display, clear_output\n",
    "\n",
    "df_pitcher = pd.read_csv('pitch_2020.csv')\n",
    "df_pitcher['Option'] = [f'{team} - {player}' for team, player in zip(df_pitcher.Team, df_pitcher.Player)]    \n",
    "# df_pitcher.head()"
   ]
  },
  {
   "cell_type": "code",
   "execution_count": 203,
   "metadata": {},
   "outputs": [],
   "source": [
    "selected_starting_pitcher = None\n",
    "selected_opposing_pitcher = None\n",
    "selected_starting_pitcher_home_or_away = None\n",
    "default_starting_pitcher = 'Choose your starting pitcher'\n",
    "default_opposing_pitcher = 'Choose your opposing pitcher'\n",
    "default_home_or_away = 'Choose starting pitcher (Home or Away)'\n",
    "\n",
    "def unique_sorted_values_plus_ALL(array, default):\n",
    "    unique = array.unique().tolist()\n",
    "    unique.sort()\n",
    "    unique.insert(0, default)\n",
    "    return unique\n",
    "\n",
    "def home_and_away():\n",
    "    unique = [ 'Home', 'Away']    \n",
    "    unique.insert(0, default_home_or_away)\n",
    "    return unique\n",
    "\n",
    "def dropdown_starting_pitcher_eventhandler(change):    \n",
    "    selected_starting_pitcher = None if change.new == default_starting_pitcher else change.new\n",
    "#     print(selected_starting_pitcher)\n",
    "\n",
    "def dropdown_opposing_pitcher_eventhandler(change):\n",
    "    selected_opposing_pitcher = None if change.new == default_opposing_pitcher else change.new    \n",
    "#     print(selected_opposing_pitcher)\n",
    "\n",
    "def dropdown_home_or_away_eventhandler(change):\n",
    "    selected_starting_pitcher_home_or_away = None if change.new == default_home_or_away else change.new\n",
    "#     print(selected_starting_pitcher_home_or_away)\n",
    "\n",
    "def reset_on_button_clicked(obj):\n",
    "    dropdown_starting_pitcher.value = default_starting_pitcher\n",
    "    dropdown_opposing_pitcher.value = default_opposing_pitcher\n",
    "    dropdown_home_or_away.value = default_home_or_away\n",
    "    with output:\n",
    "        clear_output()\n",
    "    \n",
    "def predict_on_button_clicked(obj):             \n",
    "    predict_game(\n",
    "        starting_pitcher = dropdown_starting_pitcher.value.split(' - ')[1], \n",
    "        opposing_pitcher = dropdown_opposing_pitcher.value.split(' - ')[1], \n",
    "        home_or_away = dropdown_home_or_away.value)    \n",
    "    \n",
    "def predict_game(starting_pitcher, opposing_pitcher, home_or_away):\n",
    "    # VU ADD THE MODEL PREDICTION CODE HERE, THEN PRINT RESULTS\n",
    "    results = 'Astros will win!'    \n",
    "    \n",
    "    with output:\n",
    "        clear_output()\n",
    "        print(results)"
   ]
  },
  {
   "cell_type": "code",
   "execution_count": 204,
   "metadata": {},
   "outputs": [
    {
     "output_type": "display_data",
     "data": {
      "text/plain": "Dropdown(description=&#39;Starting pitcher:&#39;, layout=Layout(width=&#39;380px&#39;), options=(&#39;Choose your starting pitcher…",
      "application/vnd.jupyter.widget-view+json": {
       "version_major": 2,
       "version_minor": 0,
       "model_id": "3bd3fa170f554358912b6a3b9ea9d78c"
      }
     },
     "metadata": {}
    },
    {
     "output_type": "display_data",
     "data": {
      "text/plain": "Dropdown(description=&#39;Opposing pitcher:&#39;, layout=Layout(width=&#39;380px&#39;), options=(&#39;Choose your opposing pitcher…",
      "application/vnd.jupyter.widget-view+json": {
       "version_major": 2,
       "version_minor": 0,
       "model_id": "29997c70133e427f9260ca8671e1a241"
      }
     },
     "metadata": {}
    },
    {
     "output_type": "display_data",
     "data": {
      "text/plain": "Dropdown(description=&#39;Home/Away:&#39;, layout=Layout(width=&#39;380px&#39;), options=(&#39;Choose starting pitcher (Home or Aw…",
      "application/vnd.jupyter.widget-view+json": {
       "version_major": 2,
       "version_minor": 0,
       "model_id": "d2898a549794413889d215f0570587e9"
      }
     },
     "metadata": {}
    },
    {
     "output_type": "display_data",
     "data": {
      "text/plain": "HBox(children=(Button(description=&quot;I&#39;m feeling lucky!&quot;, style=ButtonStyle()), Button(description=&#39;Clear&#39;, styl…",
      "application/vnd.jupyter.widget-view+json": {
       "version_major": 2,
       "version_minor": 0,
       "model_id": "62a6c6d335e54bf5976413c3cfe85803"
      }
     },
     "metadata": {}
    },
    {
     "output_type": "display_data",
     "data": {
      "text/plain": "Output()",
      "application/vnd.jupyter.widget-view+json": {
       "version_major": 2,
       "version_minor": 0,
       "model_id": "5982d8bf57244f2c93911fee8e8ee92c"
      }
     },
     "metadata": {}
    }
   ],
   "source": [
    "dropdown_starting_pitcher = widgets.Dropdown(\n",
    "    description = 'Starting pitcher:'\n",
    "    , style={'description_width': '110px'}\n",
    "    , layout={'width': '380px'}\n",
    "    , options = unique_sorted_values_plus_ALL(df_pitcher[df_pitcher['Team'] == 'HOU'].Option\n",
    "    , default_starting_pitcher)\n",
    ")\n",
    "dropdown_starting_pitcher.observe(dropdown_starting_pitcher_eventhandler, names='value')\n",
    "display(dropdown_starting_pitcher)\n",
    "\n",
    "dropdown_opposing_pitcher = widgets.Dropdown(\n",
    "    description = 'Opposing pitcher:'\n",
    "    , style={'description_width': '110px'}\n",
    "    , layout={'width': '380px'}\n",
    "    , options = unique_sorted_values_plus_ALL(df_pitcher[df_pitcher['Team'] != 'HOU'].Option\n",
    "    , default_opposing_pitcher)\n",
    ")\n",
    "dropdown_opposing_pitcher.observe(dropdown_opposing_pitcher_eventhandler, names='value')\n",
    "display(dropdown_opposing_pitcher)\n",
    "\n",
    "dropdown_home_or_away = widgets.Dropdown(\n",
    "    description = 'Home/Away:'\n",
    "    , style={'description_width': '110px'}\n",
    "    , layout={'width': '380px'}\n",
    "    , options = home_and_away()\n",
    ")\n",
    "dropdown_home_or_away.observe(dropdown_home_or_away_eventhandler, names='value')\n",
    "display(dropdown_home_or_away)\n",
    "\n",
    "predict_btn = widgets.Button(\n",
    "    description='I\\'m feeling lucky!'\n",
    "    , style={'description_width': '100px'}    \n",
    ")\n",
    "predict_btn.on_click(predict_on_button_clicked)\n",
    "\n",
    "reset_btn = widgets.Button(\n",
    "    description='Clear'\n",
    "    , style={'description_width': '100px'}    \n",
    ")\n",
    "reset_btn.on_click(reset_on_button_clicked)\n",
    "\n",
    "display(\n",
    "    widgets.HBox((predict_btn, reset_btn))\n",
    ")\n",
    "\n",
    "output = widgets.Output()\n",
    "display(output)"
   ]
  },
  {
   "cell_type": "code",
   "execution_count": null,
   "metadata": {},
   "outputs": [],
   "source": []
  }
 ]
}