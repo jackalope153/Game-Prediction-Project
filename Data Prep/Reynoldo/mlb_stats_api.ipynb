{
 "metadata": {
  "language_info": {
   "codemirror_mode": {
    "name": "ipython",
    "version": 3
   },
   "file_extension": ".py",
   "mimetype": "text/x-python",
   "name": "python",
   "nbconvert_exporter": "python",
   "pygments_lexer": "ipython3",
   "version": "3.7.7-final"
  },
  "orig_nbformat": 2,
  "kernelspec": {
   "name": "python37764bitdevconda8fd94b8604ed4ef08be978074ee9813c",
   "display_name": "Python 3.7.7 64-bit ('dev': conda)"
  }
 },
 "nbformat": 4,
 "nbformat_minor": 2,
 "cells": [
  {
   "cell_type": "code",
   "execution_count": 3,
   "metadata": {
    "tags": []
   },
   "outputs": [],
   "source": [
    "# !pip install MLB-StatsAPI\n",
    "# !pip install --upgrade MLB-StatsAPI"
   ]
  },
  {
   "cell_type": "code",
   "execution_count": 4,
   "metadata": {},
   "outputs": [],
   "source": [
    "import statsapi"
   ]
  },
  {
   "cell_type": "code",
   "execution_count": 27,
   "metadata": {},
   "outputs": [
    {
     "output_type": "execute_result",
     "data": {
      "text/plain": "[{'id': 112,\n  'name': 'Chicago Cubs',\n  'teamCode': 'chn',\n  'fileCode': 'chc',\n  'teamName': 'Cubs',\n  'locationName': 'Chicago',\n  'shortName': 'Chi Cubs'}]"
     },
     "metadata": {},
     "execution_count": 27
    }
   ],
   "source": [
    "team = statsapi.lookup_team('chn')\n",
    "team"
   ]
  },
  {
   "cell_type": "code",
   "execution_count": 31,
   "metadata": {},
   "outputs": [
    {
     "output_type": "execute_result",
     "data": {
      "text/plain": "{'game_id': 530769,\n 'game_datetime': '2018-07-09T20:10:00Z',\n 'game_date': '2018-07-09',\n 'game_type': 'R',\n 'status': 'Final',\n 'away_name': 'Philadelphia Phillies',\n 'home_name': 'New York Mets',\n 'away_id': 143,\n 'home_id': 121,\n 'doubleheader': 'Y',\n 'game_num': 1,\n 'home_probable_pitcher': 'Zack Wheeler',\n 'away_probable_pitcher': 'Zach Eflin',\n 'home_pitcher_note': 'Another victim of a low-scoring offense, Wheeler is 0-4 over his last 11 starts, despite a 3.76 ERA and 67 strikeouts in those 66 innings. The Mets will push Wheeler back a day in the rotation, hoping he can provide length in a doubleheader.',\n 'away_pitcher_note': 'Following three consecutive starts of fewer than five innings to finish May, Eflin has been arguably the team’s best pitcher since. He is 6-0 with a 1.91 ERA in his past six starts, striking out 34 and walking six in 37 2/3 innings.',\n 'away_score': 3,\n 'home_score': 4,\n 'current_inning': 10,\n 'inning_state': 'Bottom',\n 'venue_id': 3289,\n 'venue_name': 'Citi Field',\n 'winning_team': 'New York Mets',\n 'losing_team': 'Philadelphia Phillies',\n 'winning_pitcher': 'Tim Peterson',\n 'losing_pitcher': 'Victor Arano',\n 'save_pitcher': None,\n 'summary': '2018-07-09 - Philadelphia Phillies (3) @ New York Mets (4) (Final)'}"
     },
     "metadata": {},
     "execution_count": 31
    }
   ],
   "source": [
    "sched = statsapi.schedule(start_date='07/01/2018', end_date='07/31/2019', team=143, opponent=121)\n",
    "sched[0]\n",
    "\n",
    "# var = statsapi.get('team', {'teamId':143})\n",
    "# var"
   ]
  },
  {
   "cell_type": "code",
   "execution_count": 16,
   "metadata": {},
   "outputs": [],
   "source": [
    "# venue_name = sched[0]['venue_name']\n",
    "# venue_name"
   ]
  },
  {
   "cell_type": "code",
   "execution_count": 26,
   "metadata": {
    "tags": []
   },
   "outputs": [
    {
     "output_type": "stream",
     "name": "stdout",
     "text": "American League West\nRank Team                   W   L   GB  (E#) WC Rank WC GB (E#)\n 1   Oakland Athletics     35  22   -    -      -      -    -  \n 2   Houston Astros        29  29  6.5   -      -      -    -  \n 3   Los Angeles Angels    26  32  9.5   E      3     8.0   E  \n 4   Seattle Mariners      25  32  10.0  E      4     8.5   E  \n 5   Texas Rangers         20  38  15.5  E      9    14.0   E  \n\nAmerican League East\nRank Team                   W   L   GB  (E#) WC Rank WC GB (E#)\n 1   Tampa Bay Rays        38  20   -    -      -      -    -  \n 2   New York Yankees      32  26  6.0   -      -      -    -  \n 3   Toronto Blue Jays     31  27  7.0   2      2     3.0   E  \n 4   Baltimore Orioles     24  34  14.0  E      6    10.0   E  \n 5   Boston Red Sox        22  36  16.0  E      8    12.0   E  \n\nAmerican League Central\nRank Team                   W   L   GB  (E#) WC Rank WC GB (E#)\n 1   Minnesota Twins       35  23   -    -      -    +1.0   -  \n 2   Chicago White Sox     34  24  1.0   -      -      -    -  \n 3   Cleveland Indians     34  24  1.0   -      1      -    -  \n 4   Kansas City Royals    25  33  10.0  E      5     9.0   E  \n 5   Detroit Tigers        22  34  12.0  E      7    11.0   E  \n\nNational League Central\nRank Team                   W   L   GB  (E#) WC Rank WC GB (E#)\n 1   Chicago Cubs          33  25   -    -      -      -    -  \n 2   St. Louis Cardinals   29  27  3.0   -      -      -    -  \n 3   Cincinnati Reds       30  28  3.0   -      1    +1.0   -  \n 4   Milwaukee Brewers     28  30  5.0   2      3     1.0   2  \n 5   Pittsburgh Pirates    18  40  15.0  E      9    11.0   E  \n\nNational League West\nRank Team                   W   L   GB  (E#) WC Rank WC GB (E#)\n 1   Los Angeles Dodgers   41  17   -    -      -      -    -  \n 2   San Diego Padres      35  23  6.0   -      -      -    -  \n 3   San Francisco Giants  29  29  12.0  E      2      -    -  \n 4   Colorado Rockies      25  33  16.0  E      6     4.0   E  \n 5   Arizona Diamondbacks  24  34  17.0  E      7     5.0   E  \n\nNational League East\nRank Team                   W   L   GB  (E#) WC Rank WC GB (E#)\n 1   Atlanta Braves        35  23   -    -      -      -    -  \n 2   Miami Marlins         30  28  5.0   -      -      -    -  \n 3   Philadelphia Phillies 28  30  7.0   1      4     1.0   2  \n 4   New York Mets         26  31  8.5   E      5     2.5   1  \n 5   Washington Nationals  23  34  11.5  E      8     5.5   E  \n\n\n"
    }
   ],
   "source": [
    "ss = (statsapi.standings(leagueId=\"103,104\", division=\"all\", include_wildcard=True, season=None, standingsTypes=None, date=None))\n",
    "print(ss)"
   ]
  },
  {
   "cell_type": "code",
   "execution_count": null,
   "metadata": {},
   "outputs": [],
   "source": []
  }
 ]
}