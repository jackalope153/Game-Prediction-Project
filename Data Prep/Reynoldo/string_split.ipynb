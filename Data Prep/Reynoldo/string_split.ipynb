{
 "metadata": {
  "language_info": {
   "codemirror_mode": {
    "name": "ipython",
    "version": 3
   },
   "file_extension": ".py",
   "mimetype": "text/x-python",
   "name": "python",
   "nbconvert_exporter": "python",
   "pygments_lexer": "ipython3",
   "version": "3.7.7-final"
  },
  "orig_nbformat": 2,
  "kernelspec": {
   "name": "python37764bitdevconda8fd94b8604ed4ef08be978074ee9813c",
   "display_name": "Python 3.7.7 64-bit ('dev': conda)"
  }
 },
 "nbformat": 4,
 "nbformat_minor": 2,
 "cells": [
  {
   "cell_type": "code",
   "execution_count": 1,
   "metadata": {},
   "outputs": [
    {
     "output_type": "execute_result",
     "data": {
      "text/plain": "  WL Score\n0  W   5-1\n1  W   5-1",
      "text/html": "<div>\n<style scoped>\n    .dataframe tbody tr th:only-of-type {\n        vertical-align: middle;\n    }\n\n    .dataframe tbody tr th {\n        vertical-align: top;\n    }\n\n    .dataframe thead th {\n        text-align: right;\n    }\n</style>\n<table border=\"1\" class=\"dataframe\">\n  <thead>\n    <tr style=\"text-align: right;\">\n      <th></th>\n      <th>WL</th>\n      <th>Score</th>\n    </tr>\n  </thead>\n  <tbody>\n    <tr>\n      <th>0</th>\n      <td>W</td>\n      <td>5-1</td>\n    </tr>\n    <tr>\n      <th>1</th>\n      <td>W</td>\n      <td>5-1</td>\n    </tr>\n  </tbody>\n</table>\n</div>"
     },
     "metadata": {},
     "execution_count": 1
    }
   ],
   "source": [
    "import pandas as pd\n",
    "\n",
    "s = pd.DataFrame({\n",
    "        'Result': [\n",
    "            \"W 5-1\", \n",
    "            \"L 3-7\"\n",
    "            ]\n",
    "    })\n",
    "\n",
    "s[\"WL\"] = s[\"Result\"].str.split().iloc[0][0]\n",
    "s[\"Score\"] = s[\"Result\"].str.split().iloc[0][1]\n",
    "s.drop(columns= ['Result'], inplace=True)\n",
    "s"
   ]
  },
  {
   "cell_type": "code",
   "execution_count": null,
   "metadata": {},
   "outputs": [],
   "source": []
  }
 ]
}