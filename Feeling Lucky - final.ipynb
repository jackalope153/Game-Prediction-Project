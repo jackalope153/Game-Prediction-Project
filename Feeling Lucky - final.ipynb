{
 "cells": [
  {
   "cell_type": "code",
   "execution_count": 2,
   "metadata": {},
   "outputs": [
    {
     "ename": "ImportError",
     "evalue": "cannot import name 'MultiChoice' from 'bokeh.models.widgets' (C:\\Users\\Natalia\\anaconda3\\lib\\site-packages\\bokeh\\models\\widgets\\__init__.py)",
     "output_type": "error",
     "traceback": [
      "\u001b[1;31m---------------------------------------------------------------------------\u001b[0m",
      "\u001b[1;31mImportError\u001b[0m                               Traceback (most recent call last)",
      "\u001b[1;32m<ipython-input-2-51e1cd0cee37>\u001b[0m in \u001b[0;36m<module>\u001b[1;34m\u001b[0m\n\u001b[0;32m      5\u001b[0m \u001b[1;32mfrom\u001b[0m \u001b[0mcollections\u001b[0m \u001b[1;32mimport\u001b[0m \u001b[0mCounter\u001b[0m\u001b[1;33m\u001b[0m\u001b[1;33m\u001b[0m\u001b[0m\n\u001b[0;32m      6\u001b[0m \u001b[1;32mfrom\u001b[0m \u001b[0mpath\u001b[0m \u001b[1;32mimport\u001b[0m \u001b[0mPath\u001b[0m\u001b[1;33m\u001b[0m\u001b[1;33m\u001b[0m\u001b[0m\n\u001b[1;32m----> 7\u001b[1;33m \u001b[1;32mimport\u001b[0m \u001b[0mhvplot\u001b[0m\u001b[1;33m.\u001b[0m\u001b[0mpandas\u001b[0m\u001b[1;33m\u001b[0m\u001b[1;33m\u001b[0m\u001b[0m\n\u001b[0m\u001b[0;32m      8\u001b[0m \u001b[1;32mfrom\u001b[0m \u001b[0msklearn\u001b[0m\u001b[1;33m.\u001b[0m\u001b[0mensemble\u001b[0m \u001b[1;32mimport\u001b[0m \u001b[0mRandomForestClassifier\u001b[0m\u001b[1;33m\u001b[0m\u001b[1;33m\u001b[0m\u001b[0m\n\u001b[0;32m      9\u001b[0m \u001b[1;32mfrom\u001b[0m \u001b[0msklearn\u001b[0m\u001b[1;33m.\u001b[0m\u001b[0mpreprocessing\u001b[0m \u001b[1;32mimport\u001b[0m \u001b[0mStandardScaler\u001b[0m\u001b[1;33m\u001b[0m\u001b[1;33m\u001b[0m\u001b[0m\n",
      "\u001b[1;32m~\\anaconda3\\lib\\site-packages\\hvplot\\__init__.py\u001b[0m in \u001b[0;36m<module>\u001b[1;34m\u001b[0m\n\u001b[0;32m      6\u001b[0m \u001b[1;33m\u001b[0m\u001b[0m\n\u001b[0;32m      7\u001b[0m \u001b[1;32mimport\u001b[0m \u001b[0mparam\u001b[0m\u001b[1;33m\u001b[0m\u001b[1;33m\u001b[0m\u001b[0m\n\u001b[1;32m----> 8\u001b[1;33m \u001b[1;32mimport\u001b[0m \u001b[0mholoviews\u001b[0m \u001b[1;32mas\u001b[0m \u001b[0m_hv\u001b[0m\u001b[1;33m\u001b[0m\u001b[1;33m\u001b[0m\u001b[0m\n\u001b[0m\u001b[0;32m      9\u001b[0m \u001b[1;33m\u001b[0m\u001b[0m\n\u001b[0;32m     10\u001b[0m \u001b[1;32mfrom\u001b[0m \u001b[0mholoviews\u001b[0m \u001b[1;32mimport\u001b[0m \u001b[0mStore\u001b[0m\u001b[1;33m\u001b[0m\u001b[1;33m\u001b[0m\u001b[0m\n",
      "\u001b[1;32m~\\anaconda3\\lib\\site-packages\\holoviews\\__init__.py\u001b[0m in \u001b[0;36m<module>\u001b[1;34m\u001b[0m\n\u001b[0;32m     10\u001b[0m \u001b[1;33m\u001b[0m\u001b[0m\n\u001b[0;32m     11\u001b[0m \u001b[1;32mfrom\u001b[0m \u001b[1;33m.\u001b[0m \u001b[1;32mimport\u001b[0m \u001b[0mutil\u001b[0m                                       \u001b[1;31m# noqa (API import)\u001b[0m\u001b[1;33m\u001b[0m\u001b[1;33m\u001b[0m\u001b[0m\n\u001b[1;32m---> 12\u001b[1;33m \u001b[1;32mfrom\u001b[0m \u001b[1;33m.\u001b[0m\u001b[0mannotators\u001b[0m \u001b[1;32mimport\u001b[0m \u001b[0mannotate\u001b[0m                         \u001b[1;31m# noqa (API import)\u001b[0m\u001b[1;33m\u001b[0m\u001b[1;33m\u001b[0m\u001b[0m\n\u001b[0m\u001b[0;32m     13\u001b[0m \u001b[1;32mfrom\u001b[0m \u001b[1;33m.\u001b[0m\u001b[0mcore\u001b[0m \u001b[1;32mimport\u001b[0m \u001b[0marchive\u001b[0m\u001b[1;33m,\u001b[0m \u001b[0mconfig\u001b[0m                        \u001b[1;31m# noqa (API import)\u001b[0m\u001b[1;33m\u001b[0m\u001b[1;33m\u001b[0m\u001b[0m\n\u001b[0;32m     14\u001b[0m \u001b[1;32mfrom\u001b[0m \u001b[1;33m.\u001b[0m\u001b[0mcore\u001b[0m\u001b[1;33m.\u001b[0m\u001b[0mboundingregion\u001b[0m \u001b[1;32mimport\u001b[0m \u001b[0mBoundingBox\u001b[0m             \u001b[1;31m# noqa (API import)\u001b[0m\u001b[1;33m\u001b[0m\u001b[1;33m\u001b[0m\u001b[0m\n",
      "\u001b[1;32m~\\anaconda3\\lib\\site-packages\\holoviews\\annotators.py\u001b[0m in \u001b[0;36m<module>\u001b[1;34m\u001b[0m\n\u001b[0;32m      8\u001b[0m \u001b[1;32mimport\u001b[0m \u001b[0mparam\u001b[0m\u001b[1;33m\u001b[0m\u001b[1;33m\u001b[0m\u001b[0m\n\u001b[0;32m      9\u001b[0m \u001b[1;33m\u001b[0m\u001b[0m\n\u001b[1;32m---> 10\u001b[1;33m \u001b[1;32mfrom\u001b[0m \u001b[0mpanel\u001b[0m\u001b[1;33m.\u001b[0m\u001b[0mpane\u001b[0m \u001b[1;32mimport\u001b[0m \u001b[0mPaneBase\u001b[0m\u001b[1;33m\u001b[0m\u001b[1;33m\u001b[0m\u001b[0m\n\u001b[0m\u001b[0;32m     11\u001b[0m \u001b[1;32mfrom\u001b[0m \u001b[0mpanel\u001b[0m\u001b[1;33m.\u001b[0m\u001b[0mlayout\u001b[0m \u001b[1;32mimport\u001b[0m \u001b[0mRow\u001b[0m\u001b[1;33m,\u001b[0m \u001b[0mTabs\u001b[0m\u001b[1;33m\u001b[0m\u001b[1;33m\u001b[0m\u001b[0m\n\u001b[0;32m     12\u001b[0m \u001b[1;32mfrom\u001b[0m \u001b[0mpanel\u001b[0m\u001b[1;33m.\u001b[0m\u001b[0mutil\u001b[0m \u001b[1;32mimport\u001b[0m \u001b[0mparam_name\u001b[0m\u001b[1;33m\u001b[0m\u001b[1;33m\u001b[0m\u001b[0m\n",
      "\u001b[1;32m~\\anaconda3\\lib\\site-packages\\panel\\__init__.py\u001b[0m in \u001b[0;36m<module>\u001b[1;34m\u001b[0m\n\u001b[0;32m      5\u001b[0m \u001b[1;32mfrom\u001b[0m \u001b[1;33m.\u001b[0m \u001b[1;32mimport\u001b[0m \u001b[0mlayout\u001b[0m \u001b[1;31m# noqa\u001b[0m\u001b[1;33m\u001b[0m\u001b[1;33m\u001b[0m\u001b[0m\n\u001b[0;32m      6\u001b[0m \u001b[1;32mfrom\u001b[0m \u001b[1;33m.\u001b[0m \u001b[1;32mimport\u001b[0m \u001b[0mlinks\u001b[0m \u001b[1;31m# noqa\u001b[0m\u001b[1;33m\u001b[0m\u001b[1;33m\u001b[0m\u001b[0m\n\u001b[1;32m----> 7\u001b[1;33m \u001b[1;32mfrom\u001b[0m \u001b[1;33m.\u001b[0m \u001b[1;32mimport\u001b[0m \u001b[0mpane\u001b[0m \u001b[1;31m# noqa\u001b[0m\u001b[1;33m\u001b[0m\u001b[1;33m\u001b[0m\u001b[0m\n\u001b[0m\u001b[0;32m      8\u001b[0m \u001b[1;32mfrom\u001b[0m \u001b[1;33m.\u001b[0m \u001b[1;32mimport\u001b[0m \u001b[0mparam\u001b[0m \u001b[1;31m# noqa\u001b[0m\u001b[1;33m\u001b[0m\u001b[1;33m\u001b[0m\u001b[0m\n\u001b[0;32m      9\u001b[0m \u001b[1;32mfrom\u001b[0m \u001b[1;33m.\u001b[0m \u001b[1;32mimport\u001b[0m \u001b[0mpipeline\u001b[0m \u001b[1;31m# noqa\u001b[0m\u001b[1;33m\u001b[0m\u001b[1;33m\u001b[0m\u001b[0m\n",
      "\u001b[1;32m~\\anaconda3\\lib\\site-packages\\panel\\pane\\__init__.py\u001b[0m in \u001b[0;36m<module>\u001b[1;34m\u001b[0m\n\u001b[0;32m     12\u001b[0m \u001b[1;32mfrom\u001b[0m \u001b[1;33m.\u001b[0m\u001b[0mequation\u001b[0m \u001b[1;32mimport\u001b[0m \u001b[0mLaTeX\u001b[0m \u001b[1;31m# noqa\u001b[0m\u001b[1;33m\u001b[0m\u001b[1;33m\u001b[0m\u001b[0m\n\u001b[0;32m     13\u001b[0m \u001b[1;32mfrom\u001b[0m \u001b[1;33m.\u001b[0m\u001b[0mdeckgl\u001b[0m \u001b[1;32mimport\u001b[0m \u001b[0mDeckGL\u001b[0m \u001b[1;31m# noqa\u001b[0m\u001b[1;33m\u001b[0m\u001b[1;33m\u001b[0m\u001b[0m\n\u001b[1;32m---> 14\u001b[1;33m \u001b[1;32mfrom\u001b[0m \u001b[1;33m.\u001b[0m\u001b[0mholoviews\u001b[0m \u001b[1;32mimport\u001b[0m \u001b[0mHoloViews\u001b[0m \u001b[1;31m# noqa\u001b[0m\u001b[1;33m\u001b[0m\u001b[1;33m\u001b[0m\u001b[0m\n\u001b[0m\u001b[0;32m     15\u001b[0m \u001b[1;32mfrom\u001b[0m \u001b[1;33m.\u001b[0m\u001b[0mimage\u001b[0m \u001b[1;32mimport\u001b[0m \u001b[0mGIF\u001b[0m\u001b[1;33m,\u001b[0m \u001b[0mJPG\u001b[0m\u001b[1;33m,\u001b[0m \u001b[0mPNG\u001b[0m\u001b[1;33m,\u001b[0m \u001b[0mSVG\u001b[0m \u001b[1;31m# noqa\u001b[0m\u001b[1;33m\u001b[0m\u001b[1;33m\u001b[0m\u001b[0m\n\u001b[0;32m     16\u001b[0m \u001b[1;32mfrom\u001b[0m \u001b[1;33m.\u001b[0m\u001b[0mmarkup\u001b[0m \u001b[1;32mimport\u001b[0m \u001b[0mDataFrame\u001b[0m\u001b[1;33m,\u001b[0m \u001b[0mHTML\u001b[0m\u001b[1;33m,\u001b[0m \u001b[0mJSON\u001b[0m\u001b[1;33m,\u001b[0m \u001b[0mMarkdown\u001b[0m\u001b[1;33m,\u001b[0m \u001b[0mStr\u001b[0m \u001b[1;31m# noqa\u001b[0m\u001b[1;33m\u001b[0m\u001b[1;33m\u001b[0m\u001b[0m\n",
      "\u001b[1;32m~\\anaconda3\\lib\\site-packages\\panel\\pane\\holoviews.py\u001b[0m in \u001b[0;36m<module>\u001b[1;34m\u001b[0m\n\u001b[0;32m     18\u001b[0m \u001b[1;32mfrom\u001b[0m \u001b[1;33m.\u001b[0m\u001b[1;33m.\u001b[0m\u001b[0mlayout\u001b[0m \u001b[1;32mimport\u001b[0m \u001b[0mColumn\u001b[0m\u001b[1;33m,\u001b[0m \u001b[0mWidgetBox\u001b[0m\u001b[1;33m,\u001b[0m \u001b[0mHSpacer\u001b[0m\u001b[1;33m,\u001b[0m \u001b[0mVSpacer\u001b[0m\u001b[1;33m,\u001b[0m \u001b[0mRow\u001b[0m\u001b[1;33m\u001b[0m\u001b[1;33m\u001b[0m\u001b[0m\n\u001b[0;32m     19\u001b[0m \u001b[1;32mfrom\u001b[0m \u001b[1;33m.\u001b[0m\u001b[1;33m.\u001b[0m\u001b[0mviewable\u001b[0m \u001b[1;32mimport\u001b[0m \u001b[0mLayoutable\u001b[0m\u001b[1;33m,\u001b[0m \u001b[0mViewable\u001b[0m\u001b[1;33m\u001b[0m\u001b[1;33m\u001b[0m\u001b[0m\n\u001b[1;32m---> 20\u001b[1;33m \u001b[1;32mfrom\u001b[0m \u001b[1;33m.\u001b[0m\u001b[1;33m.\u001b[0m\u001b[0mwidgets\u001b[0m \u001b[1;32mimport\u001b[0m \u001b[0mPlayer\u001b[0m\u001b[1;33m\u001b[0m\u001b[1;33m\u001b[0m\u001b[0m\n\u001b[0m\u001b[0;32m     21\u001b[0m \u001b[1;32mfrom\u001b[0m \u001b[1;33m.\u001b[0m\u001b[0mbase\u001b[0m \u001b[1;32mimport\u001b[0m \u001b[0mPaneBase\u001b[0m\u001b[1;33m,\u001b[0m \u001b[0mPane\u001b[0m\u001b[1;33m,\u001b[0m \u001b[0mRerenderError\u001b[0m\u001b[1;33m\u001b[0m\u001b[1;33m\u001b[0m\u001b[0m\n\u001b[0;32m     22\u001b[0m \u001b[1;32mfrom\u001b[0m \u001b[1;33m.\u001b[0m\u001b[0mplot\u001b[0m \u001b[1;32mimport\u001b[0m \u001b[0mBokeh\u001b[0m\u001b[1;33m,\u001b[0m \u001b[0mMatplotlib\u001b[0m\u001b[1;33m\u001b[0m\u001b[1;33m\u001b[0m\u001b[0m\n",
      "\u001b[1;32m~\\anaconda3\\lib\\site-packages\\panel\\widgets\\__init__.py\u001b[0m in \u001b[0;36m<module>\u001b[1;34m\u001b[0m\n\u001b[0;32m      8\u001b[0m \u001b[1;32mfrom\u001b[0m \u001b[1;33m.\u001b[0m\u001b[0mbase\u001b[0m \u001b[1;32mimport\u001b[0m \u001b[0mWidget\u001b[0m\u001b[1;33m,\u001b[0m \u001b[0mCompositeWidget\u001b[0m \u001b[1;31m# noqa\u001b[0m\u001b[1;33m\u001b[0m\u001b[1;33m\u001b[0m\u001b[0m\n\u001b[0;32m      9\u001b[0m \u001b[1;32mfrom\u001b[0m \u001b[1;33m.\u001b[0m\u001b[0mbutton\u001b[0m \u001b[1;32mimport\u001b[0m \u001b[0mButton\u001b[0m\u001b[1;33m,\u001b[0m \u001b[0mToggle\u001b[0m \u001b[1;31m# noqa\u001b[0m\u001b[1;33m\u001b[0m\u001b[1;33m\u001b[0m\u001b[0m\n\u001b[1;32m---> 10\u001b[1;33m \u001b[1;32mfrom\u001b[0m \u001b[1;33m.\u001b[0m\u001b[0mfile_selector\u001b[0m \u001b[1;32mimport\u001b[0m \u001b[0mFileSelector\u001b[0m \u001b[1;31m# noqa\u001b[0m\u001b[1;33m\u001b[0m\u001b[1;33m\u001b[0m\u001b[0m\n\u001b[0m\u001b[0;32m     11\u001b[0m from .input import (# noqa\n\u001b[0;32m     12\u001b[0m     \u001b[0mColorPicker\u001b[0m\u001b[1;33m,\u001b[0m \u001b[0mCheckbox\u001b[0m\u001b[1;33m,\u001b[0m \u001b[0mDatetimeInput\u001b[0m\u001b[1;33m,\u001b[0m \u001b[0mDatePicker\u001b[0m\u001b[1;33m,\u001b[0m \u001b[0mFileInput\u001b[0m\u001b[1;33m,\u001b[0m\u001b[1;33m\u001b[0m\u001b[1;33m\u001b[0m\u001b[0m\n",
      "\u001b[1;32m~\\anaconda3\\lib\\site-packages\\panel\\widgets\\file_selector.py\u001b[0m in \u001b[0;36m<module>\u001b[1;34m\u001b[0m\n\u001b[0;32m     18\u001b[0m \u001b[1;32mfrom\u001b[0m \u001b[1;33m.\u001b[0m\u001b[0mbutton\u001b[0m \u001b[1;32mimport\u001b[0m \u001b[0mButton\u001b[0m\u001b[1;33m\u001b[0m\u001b[1;33m\u001b[0m\u001b[0m\n\u001b[0;32m     19\u001b[0m \u001b[1;32mfrom\u001b[0m \u001b[1;33m.\u001b[0m\u001b[0minput\u001b[0m \u001b[1;32mimport\u001b[0m \u001b[0mTextInput\u001b[0m\u001b[1;33m\u001b[0m\u001b[1;33m\u001b[0m\u001b[0m\n\u001b[1;32m---> 20\u001b[1;33m \u001b[1;32mfrom\u001b[0m \u001b[1;33m.\u001b[0m\u001b[0mselect\u001b[0m \u001b[1;32mimport\u001b[0m \u001b[0mCrossSelector\u001b[0m\u001b[1;33m\u001b[0m\u001b[1;33m\u001b[0m\u001b[0m\n\u001b[0m\u001b[0;32m     21\u001b[0m \u001b[1;33m\u001b[0m\u001b[0m\n\u001b[0;32m     22\u001b[0m \u001b[1;33m\u001b[0m\u001b[0m\n",
      "\u001b[1;32m~\\anaconda3\\lib\\site-packages\\panel\\widgets\\select.py\u001b[0m in \u001b[0;36m<module>\u001b[1;34m\u001b[0m\n\u001b[0;32m     11\u001b[0m \u001b[1;32mimport\u001b[0m \u001b[0mparam\u001b[0m\u001b[1;33m\u001b[0m\u001b[1;33m\u001b[0m\u001b[0m\n\u001b[0;32m     12\u001b[0m \u001b[1;33m\u001b[0m\u001b[0m\n\u001b[1;32m---> 13\u001b[1;33m from bokeh.models.widgets import (\n\u001b[0m\u001b[0;32m     14\u001b[0m     \u001b[0mAutocompleteInput\u001b[0m \u001b[1;32mas\u001b[0m \u001b[0m_BkAutocompleteInput\u001b[0m\u001b[1;33m,\u001b[0m \u001b[0mCheckboxGroup\u001b[0m \u001b[1;32mas\u001b[0m \u001b[0m_BkCheckboxGroup\u001b[0m\u001b[1;33m,\u001b[0m\u001b[1;33m\u001b[0m\u001b[1;33m\u001b[0m\u001b[0m\n\u001b[0;32m     15\u001b[0m     \u001b[0mCheckboxButtonGroup\u001b[0m \u001b[1;32mas\u001b[0m \u001b[0m_BkCheckboxButtonGroup\u001b[0m\u001b[1;33m,\u001b[0m \u001b[0mMultiSelect\u001b[0m \u001b[1;32mas\u001b[0m \u001b[0m_BkMultiSelect\u001b[0m\u001b[1;33m,\u001b[0m\u001b[1;33m\u001b[0m\u001b[1;33m\u001b[0m\u001b[0m\n",
      "\u001b[1;31mImportError\u001b[0m: cannot import name 'MultiChoice' from 'bokeh.models.widgets' (C:\\Users\\Natalia\\anaconda3\\lib\\site-packages\\bokeh\\models\\widgets\\__init__.py)"
     ]
    }
   ],
   "source": [
    "%matplotlib inline\n",
    "import matplotlib.pyplot as plt\n",
    "import pandas as pd\n",
    "from sklearn.datasets import make_blobs\n",
    "from collections import Counter\n",
    "from path import Path\n",
    "import hvplot.pandas\n",
    "from sklearn.ensemble import RandomForestClassifier\n",
    "from sklearn.preprocessing import StandardScaler\n",
    "from sklearn.model_selection import train_test_split\n",
    "from sklearn.metrics import confusion_matrix, accuracy_score, classification_report\n",
    "from imblearn.ensemble import BalancedRandomForestClassifier\n",
    "from sklearn.metrics import balanced_accuracy_score\n",
    "from sklearn.metrics import confusion_matrix\n",
    "from imblearn.metrics import classification_report_imbalanced\n",
    "import mpu\n",
    "from uszipcode import SearchEngine"
   ]
  },
  {
   "cell_type": "code",
   "execution_count": null,
   "metadata": {},
   "outputs": [],
   "source": []
  },
  {
   "cell_type": "markdown",
   "metadata": {},
   "source": [
    "## import data - pitching, batting, teams acronyms, schedules\n"
   ]
  },
  {
   "cell_type": "code",
   "execution_count": null,
   "metadata": {},
   "outputs": [],
   "source": [
    "csv_path = Path(\"../Data Prep/Jack/Resources/2018_pitching.csv\")\n",
    "df_pitch = pd.read_csv(csv_path)\n",
    "df_pitch.tail()"
   ]
  },
  {
   "cell_type": "code",
   "execution_count": null,
   "metadata": {},
   "outputs": [],
   "source": [
    "csv_path = Path(\"../Data Prep/Jack/Resources/batting_2018.csv\")\n",
    "df_bat = pd.read_csv(csv_path)\n",
    "df_bat.tail(10)"
   ]
  },
  {
   "cell_type": "code",
   "execution_count": null,
   "metadata": {},
   "outputs": [],
   "source": [
    "csv_path = Path(\"../Data Prep/Jack/Resources/2018_astros_sced.csv\")\n",
    "df_sche = pd.read_csv(csv_path)\n",
    "df_sche.head()"
   ]
  },
  {
   "cell_type": "code",
   "execution_count": null,
   "metadata": {},
   "outputs": [],
   "source": [
    "df_result = pd.read_csv(Path(\"random.txt\"))\n",
    "df_home_away = pd.read_csv(Path(\"2018wl.txt\"))\n",
    "df_home_away.head()"
   ]
  },
  {
   "cell_type": "code",
   "execution_count": null,
   "metadata": {},
   "outputs": [],
   "source": [
    "team_acry = pd.read_csv(Path(\"team_acry.csv\"))\n",
    "team_acry.set_index(\"Team(Bat)\", inplace = True)\n",
    "team_acry.head()"
   ]
  },
  {
   "cell_type": "code",
   "execution_count": null,
   "metadata": {},
   "outputs": [],
   "source": [
    "def clean_schedule_data(df, df1):\n",
    "    \n",
    "    # pulling only the columns we want from the pitching log dataframe\n",
    "    df = df[[\"Game#\", \"Opp\", \"Result\", \"Starting Pitcher\", \"Opposing Pitcher\"]]\n",
    "    df.set_index(\"Game#\", inplace = True)\n",
    "    \n",
    "    # pulling only the columns we want from the schedule log dataframe\n",
    "    df1 = df1[[\"Hm/Aw\", \"Game#\"]]\n",
    "    df1.set_index(\"Game#\", inplace = True)\n",
    "    \n",
    "    # combining into one dataframe to work with\n",
    "    return_df = pd.merge(df, df1, left_index=True, right_index=True)\n",
    "    return_df.dropna(inplace=True)\n",
    "    \n",
    "    # changing results from W/L to 1/0\n",
    "    true_w = return_df[\"Result\"].str.contains('W', na=True)\n",
    "    binary_result = []\n",
    "    for row in return_df.index:\n",
    "        if true_w[row]:\n",
    "            binary_result.append(1)\n",
    "        else:\n",
    "            binary_result.append(0)\n",
    "        \n",
    "    return_df[\"Result\"] = binary_result\n",
    "    \n",
    "    \n",
    "    # getting the distance between thw two clubs\n",
    "    Home = []\n",
    "    Away = []\n",
    "    \n",
    "    x = len(return_df)\n",
    "    return_df.reset_index(inplace = True)\n",
    "    return_df.drop(columns = \"Game#\", inplace = True)\n",
    "    \n",
    "    for number in return_df.index:\n",
    "        if return_df.loc[number][\"Hm/Aw\"] == \"Away\":\n",
    "            Home.append(return_df.loc[number][\"Opp\"])\n",
    "            Away.append(\"HOU\")\n",
    "        else:\n",
    "            Home.append(\"HOU\")\n",
    "            Away.append(return_df.loc[number][\"Opp\"])\n",
    "            \n",
    "    return_df[\"Home\"] = Home\n",
    "    return_df[\"Away\"] = Away\n",
    "        \n",
    "    return_df[\"Distance\"] = [get_home_away_distance_in_miles(home, away) for home, away in zip(return_df.Home, return_df.Away)]\n",
    "\n",
    "    return_df['Distance'] = [distance * -1 if stadium == 'Home' else distance for stadium, \n",
    "                             distance in zip(return_df['Hm/Aw'], return_df['Distance'])]\n",
    "    \n",
    "    \n",
    "    # setting index and dropping off columns we don't need anymore\n",
    "    return_df.set_index(\"Opp\", inplace = True)\n",
    "    \n",
    "    return_df.drop(columns = [\"Hm/Aw\", \"Home\", \"Away\"], inplace = True)\n",
    "    \n",
    "    return return_df\n",
    "\n"
   ]
  },
  {
   "cell_type": "markdown",
   "metadata": {},
   "source": [
    "## Cleaning imported data/calculations for distance between stadiums for playing teams\n"
   ]
  },
  {
   "cell_type": "code",
   "execution_count": null,
   "metadata": {},
   "outputs": [],
   "source": [
    "def clean_batting_data(df1):\n",
    "    \n",
    "    # dropping last two rows as they are average and total\n",
    "    df1.drop(index = [30, 31], inplace = True)\n",
    "    \n",
    "    # setting index to team name\n",
    "    df1.set_index(\"Tm\", inplace = True)\n",
    "    \n",
    "    # changing team names to match\n",
    "    new_team_name = []\n",
    "\n",
    "    for team in df1.index:\n",
    "        if team in team_acry.index:\n",
    "            new_team_name.append(team_acry.loc[team][\"Team(New)\"])\n",
    "            \n",
    "    df1.index = new_team_name\n",
    "            \n",
    "    # setting index to team name\n",
    "#     df1.set_index(\"Tm\", inplace = True)\n",
    "    \n",
    "    # pulling only the metrics we want\n",
    "    df1 = df1[[\"BatAge\", \"R/G\", \"PA\", \"AB\", \"H\", \"2B\", \"3B\", \"HR\", \"BB\", \"SO\", \"BA\", \"OBP\", \"SLG\", \"OPS\", \"TB\", \"HBP\", \"LOB\"]]\n",
    "    \n",
    "    # returning the dataframe\n",
    "    return df1"
   ]
  },
  {
   "cell_type": "code",
   "execution_count": null,
   "metadata": {},
   "outputs": [],
   "source": [
    "def clean_pitching_data(df):\n",
    "    \n",
    "    # need to get rid of extra space in pitcher names\n",
    "    random_number = list(range(len(df)))\n",
    "    list_of_pitchers = []\n",
    "    for number in random_number:\n",
    "        string = df[\"Name\"][number] \n",
    "        string = string.replace(u'\\xa0', u' ')\n",
    "        list_of_pitchers.append(string)\n",
    "    df[\"Pitcher\"] = list_of_pitchers\n",
    "    \n",
    "    # setting index to pitchers\n",
    "    df.set_index(\"Pitcher\", inplace = True)\n",
    "    \n",
    "    # pulling only the metrics we want\n",
    "    df = df[[\"Tm\", \"ERA\", \"CG\", \"IP\", \"ERA+\", \"FIP\", \"WHIP\", \"H9\", \"HR9\", \"BB9\", \"SO9\", \"SO/W\"]]\n",
    "    \n",
    "    # returning the dataframe\n",
    "    return df"
   ]
  },
  {
   "cell_type": "code",
   "execution_count": null,
   "metadata": {},
   "outputs": [],
   "source": [
    "import pandas as pd\n",
    "import mpu\n",
    "from uszipcode import SearchEngine\n",
    "\n",
    "def get_distance_in_miles(home_team_zip, away_team_zip):        \n",
    "    \n",
    "    #for extensive list of zipcodes, set simple_zipcode=False\n",
    "    search = SearchEngine(simple_zipcode=True)\n",
    "    zip1 = search.by_zipcode(home_team_zip)\n",
    "    zip2 = search.by_zipcode(away_team_zip)\n",
    "\n",
    "    return round(mpu.haversine_distance((zip1.lat, zip1.lng), (zip2.lat, zip2.lng)), 2)\n",
    "\n",
    "def get_home_away_distance_in_miles(home_team_code, away_team_code):\n",
    "    \n",
    "    teams = [\n",
    "        { 'team': 'ARI', 'name': 'Arizona Diamondbacks', 'address': '401 E Jefferson St, Phoenix, AZ 85004' },\n",
    "        { 'team': 'ATL', 'name': 'Atlanta Braves',  'address': '755 Battery Ave SE, Atlanta, GA 30339' },\n",
    "        { 'team': 'BAL', 'name': 'Baltimore Orioles', 'address': '333 W Camden St, Baltimore, MD 21201' },\n",
    "        { 'team': 'BOS', 'name': 'Boston Red Sox', 'address': '4 Jersey St, Boston, MA 02215' },\n",
    "        { 'team': 'CHA', 'name': 'Chicago White Sox', 'address': '333 W 35th St, Chicago, IL 60616'},\n",
    "        { 'team': 'CHN', 'name': 'Chicago Cubs', 'address': '1060 W Addison St, Chicago, IL 60613' },\n",
    "        { 'team': 'CIN', 'name': 'Cincinnati Reds', 'address': '100 Joe Nuxhall Way, Cincinnati, OH 45202' }, \n",
    "        { 'team': 'CLE', 'name': 'Cleveland Indians', 'address': '2401 Ontario St, Cleveland, OH 44115' },\n",
    "        { 'team': 'COL', 'name': 'Colorado Rockies', 'address': '2001 Blake St, Denver, CO 80205' },\n",
    "        { 'team': 'DET', 'name': 'Detroit Tigers', 'address': '2100 Woodward Ave, Detroit, MI 48201' },\n",
    "        { 'team': 'HOU', 'name': 'Houston Astros', 'address': '501 Crawford St, Houston, TX 77002' },\n",
    "        { 'team': 'KCA', 'name': 'Kansas City Royals', 'address': '1 Royal Way, Kansas City, MO 64129' },\n",
    "        { 'team': 'ANA', 'name': 'Los Angeles Angels', 'address': '2000 E Gene Autry Way, Anaheim, CA 92806' },\n",
    "        { 'team': 'LAN', 'name': 'Los Angeles Dodgers', 'address': '1000 Vin Scully Ave, Los Angeles, CA 90012' },\n",
    "        { 'team': 'MIA', 'name': 'Miami Marlins', 'address': '501 Marlins Way, Miami, FL 33125' },\n",
    "        { 'team': 'MIL', 'name': 'Milwaukee Brewers', 'address': '1 Brewers Way, Milwaukee, WI 53214' },\n",
    "        { 'team': 'MIN', 'name': 'Minnesota Twins', 'address': '1 Twins Way, Minneapolis, MN 55403' },\n",
    "        { 'team': 'NYA', 'name': 'New York Yankees', 'address': '1 E 161 St, The Bronx, NY 10451' },\n",
    "        { 'team': 'NYN', 'name': 'New York Mets', 'address': '41 Seaver Way, Queens, NY 11368' },\n",
    "        { 'team': 'OAK', 'name': 'Oakland Athletics', 'address': '7000 Coliseum Way, Oakland, CA 94621' },\n",
    "        { 'team': 'PHI', 'name': 'Philadelphia Phillies', 'address': '1 Citizens Bank Way, Philadelphia, PA 19148' },\n",
    "        { 'team': 'PIT', 'name': 'Pittsburgh Pirates', 'address': '115 Federal St, Pittsburgh, PA 15212' },\n",
    "        { 'team': 'SDN', 'name': 'San Diego Padres', 'address': '100 Park Blvd, San Diego, CA 92101' },\n",
    "        { 'team': 'SFN', 'name': 'San Francisco Giants', 'address': '24 Willie Mays Plaza, San Francisco, CA 94107' },\n",
    "        { 'team': 'SEA', 'name': 'Seattle Mariners', 'address': '1250 1st Ave S, Seattle, WA 98134' },\n",
    "        { 'team': 'SLN', 'name': 'St. Louis Cardinals', 'address': '700 Clark Ave, St. Louis, MO 63102' },\n",
    "        { 'team': 'TBA', 'name': 'Tampa Bay Rays', 'address': '1 Tropicana Dr., St. Petersburg, FL 33705' },\n",
    "        { 'team': 'TEX', 'name': 'Texas Rangers', 'address': '734 Stadium Dr, Arlington, TX 76011' },\n",
    "        { 'team': 'TOR', 'name': 'Toronto Blue Jays', 'address': '1 Blue Jays Way, Toronto, ON 14305' },\n",
    "        { 'team': 'WAS', 'name': 'Washington Nationals', 'address': '1500 S Capitol St SE, Washington, DC 20003' }\n",
    "    ]\n",
    "\n",
    "    teams_zip_df = pd.DataFrame.from_dict(teams)\n",
    "\n",
    "    teams_zip_df['zip'] = teams_zip_df['address'].str.split(',', expand=True)[2].str.split(' ', expand=True)[2]\n",
    "    teams_zip_df.sort_values(\"team\", inplace=True) \n",
    "    teams_zip_df.set_index('team', inplace=True)    \n",
    "        \n",
    "    return get_distance_in_miles(\n",
    "        home_team_zip = teams_zip_df.loc[home_team_code]['zip'], \n",
    "        away_team_zip = teams_zip_df.loc[away_team_code]['zip'])"
   ]
  },
  {
   "cell_type": "code",
   "execution_count": null,
   "metadata": {},
   "outputs": [],
   "source": [
    "import pandas as pd\n",
    "import mpu\n",
    "from uszipcode import SearchEngine\n",
    "\n",
    "def get_distance_in_miles(home_team_zip, away_team_zip):        \n",
    "    \n",
    "    #for extensive list of zipcodes, set simple_zipcode=False\n",
    "    search = SearchEngine(simple_zipcode=True)\n",
    "    zip1 = search.by_zipcode(home_team_zip)\n",
    "    zip2 = search.by_zipcode(away_team_zip)\n",
    "\n",
    "    return round(mpu.haversine_distance((zip1.lat, zip1.lng), (zip2.lat, zip2.lng)), 2)\n",
    "\n",
    "def get_home_away_distance_in_miles(home_team_code, away_team_code):\n",
    "    \n",
    "    teams = [\n",
    "        { 'team': 'ARI', 'name': 'Arizona Diamondbacks', 'address': '401 E Jefferson St, Phoenix, AZ 85004' },\n",
    "        { 'team': 'ATL', 'name': 'Atlanta Braves',  'address': '755 Battery Ave SE, Atlanta, GA 30339' },\n",
    "        { 'team': 'BAL', 'name': 'Baltimore Orioles', 'address': '333 W Camden St, Baltimore, MD 21201' },\n",
    "        { 'team': 'BOS', 'name': 'Boston Red Sox', 'address': '4 Jersey St, Boston, MA 02215' },\n",
    "        { 'team': 'CHA', 'name': 'Chicago White Sox', 'address': '333 W 35th St, Chicago, IL 60616'},\n",
    "        { 'team': 'CHN', 'name': 'Chicago Cubs', 'address': '1060 W Addison St, Chicago, IL 60613' },\n",
    "        { 'team': 'CIN', 'name': 'Cincinnati Reds', 'address': '100 Joe Nuxhall Way, Cincinnati, OH 45202' }, \n",
    "        { 'team': 'CLE', 'name': 'Cleveland Indians', 'address': '2401 Ontario St, Cleveland, OH 44115' },\n",
    "        { 'team': 'COL', 'name': 'Colorado Rockies', 'address': '2001 Blake St, Denver, CO 80205' },\n",
    "        { 'team': 'DET', 'name': 'Detroit Tigers', 'address': '2100 Woodward Ave, Detroit, MI 48201' },\n",
    "        { 'team': 'HOU', 'name': 'Houston Astros', 'address': '501 Crawford St, Houston, TX 77002' },\n",
    "        { 'team': 'KCA', 'name': 'Kansas City Royals', 'address': '1 Royal Way, Kansas City, MO 64129' },\n",
    "        { 'team': 'ANA', 'name': 'Los Angeles Angels', 'address': '2000 E Gene Autry Way, Anaheim, CA 92806' },\n",
    "        { 'team': 'LAN', 'name': 'Los Angeles Dodgers', 'address': '1000 Vin Scully Ave, Los Angeles, CA 90012' },\n",
    "        { 'team': 'MIA', 'name': 'Miami Marlins', 'address': '501 Marlins Way, Miami, FL 33125' },\n",
    "        { 'team': 'MIL', 'name': 'Milwaukee Brewers', 'address': '1 Brewers Way, Milwaukee, WI 53214' },\n",
    "        { 'team': 'MIN', 'name': 'Minnesota Twins', 'address': '1 Twins Way, Minneapolis, MN 55403' },\n",
    "        { 'team': 'NYA', 'name': 'New York Yankees', 'address': '1 E 161 St, The Bronx, NY 10451' },\n",
    "        { 'team': 'NYN', 'name': 'New York Mets', 'address': '41 Seaver Way, Queens, NY 11368' },\n",
    "        { 'team': 'OAK', 'name': 'Oakland Athletics', 'address': '7000 Coliseum Way, Oakland, CA 94621' },\n",
    "        { 'team': 'PHI', 'name': 'Philadelphia Phillies', 'address': '1 Citizens Bank Way, Philadelphia, PA 19148' },\n",
    "        { 'team': 'PIT', 'name': 'Pittsburgh Pirates', 'address': '115 Federal St, Pittsburgh, PA 15212' },\n",
    "        { 'team': 'SDN', 'name': 'San Diego Padres', 'address': '100 Park Blvd, San Diego, CA 92101' },\n",
    "        { 'team': 'SFN', 'name': 'San Francisco Giants', 'address': '24 Willie Mays Plaza, San Francisco, CA 94107' },\n",
    "        { 'team': 'SEA', 'name': 'Seattle Mariners', 'address': '1250 1st Ave S, Seattle, WA 98134' },\n",
    "        { 'team': 'SLN', 'name': 'St. Louis Cardinals', 'address': '700 Clark Ave, St. Louis, MO 63102' },\n",
    "        { 'team': 'TBA', 'name': 'Tampa Bay Rays', 'address': '1 Tropicana Dr., St. Petersburg, FL 33705' },\n",
    "        { 'team': 'TEX', 'name': 'Texas Rangers', 'address': '734 Stadium Dr, Arlington, TX 76011' },\n",
    "        { 'team': 'TOR', 'name': 'Toronto Blue Jays', 'address': '1 Blue Jays Way, Toronto, ON 14305' },\n",
    "        { 'team': 'WAS', 'name': 'Washington Nationals', 'address': '1500 S Capitol St SE, Washington, DC 20003' }\n",
    "    ]\n",
    "\n",
    "    teams_zip_df = pd.DataFrame.from_dict(teams)\n",
    "\n",
    "    teams_zip_df['zip'] = teams_zip_df['address'].str.split(',', expand=True)[2].str.split(' ', expand=True)[2]\n",
    "    teams_zip_df.sort_values(\"team\", inplace=True) \n",
    "    teams_zip_df.set_index('team', inplace=True)    \n",
    "        \n",
    "    return get_distance_in_miles(\n",
    "        home_team_zip = teams_zip_df.loc[home_team_code]['zip'], \n",
    "        away_team_zip = teams_zip_df.loc[away_team_code]['zip'])"
   ]
  },
  {
   "cell_type": "markdown",
   "metadata": {},
   "source": [
    "## Creating function for win/loss"
   ]
  },
  {
   "cell_type": "code",
   "execution_count": null,
   "metadata": {},
   "outputs": [],
   "source": [
    "def determine_who_wins(starting_pitcher, opposing_pitcher, home_or_away):\n",
    "    \n",
    "    \n",
    "    # gathering pitching data from two inputs in the function\n",
    "    opp_pitch_class = []\n",
    "    opp_pitch_class_2 = []\n",
    "    opp_pitch_class_3 = []\n",
    "    opp_pitch_class_4 = []\n",
    "    opp_pitch_class_5 = []\n",
    "    opp_pitch_class_6 = []\n",
    "    opp_pitch_class_7 = []\n",
    "    opp_pitch_class_8 = []\n",
    "    opp_pitch_class_9 = []\n",
    "    opp_pitch_class_10 = []\n",
    "    opp_pitch_class_11 = []\n",
    "    \n",
    "    if opposing_pitcher in df_pitch.index:\n",
    "        opp_pitch_class.append(df_pitch.loc[opposing_pitcher][\"ERA\"])\n",
    "        opp_pitch_class_2.append(df_pitch.loc[opposing_pitcher][\"CG\"])\n",
    "        opp_pitch_class_3.append(df_pitch.loc[opposing_pitcher][\"IP\"])\n",
    "        opp_pitch_class_4.append(df_pitch.loc[opposing_pitcher][\"ERA+\"])\n",
    "        opp_pitch_class_5.append(df_pitch.loc[opposing_pitcher][\"FIP\"])\n",
    "        opp_pitch_class_6.append(df_pitch.loc[opposing_pitcher][\"WHIP\"])\n",
    "        opp_pitch_class_7.append(df_pitch.loc[opposing_pitcher][\"H9\"])\n",
    "        opp_pitch_class_8.append(df_pitch.loc[opposing_pitcher][\"HR9\"])\n",
    "        opp_pitch_class_9.append(df_pitch.loc[opposing_pitcher][\"BB9\"])\n",
    "        opp_pitch_class_10.append(df_pitch.loc[opposing_pitcher][\"SO9\"])\n",
    "        opp_pitch_class_11.append(df_pitch.loc[opposing_pitcher][\"SO/W\"])\n",
    "    else:\n",
    "        Print(\"Opposing Pitcher Not Found\")\n",
    "\n",
    "    start_pitch_class = []\n",
    "    start_pitch_class_2 = []\n",
    "    start_pitch_class_3 = []\n",
    "    start_pitch_class_4 = []\n",
    "    start_pitch_class_5 = []\n",
    "    start_pitch_class_6 = []\n",
    "    start_pitch_class_7 = []\n",
    "    start_pitch_class_8 = []\n",
    "    start_pitch_class_9 = []\n",
    "    start_pitch_class_10 = []\n",
    "    start_pitch_class_11 = []\n",
    "       \n",
    "    if starting_pitcher in df_pitch.index:\n",
    "        start_pitch_class.append(df_pitch.loc[starting_pitcher][\"ERA\"])\n",
    "        start_pitch_class_2.append(df_pitch.loc[starting_pitcher][\"CG\"])\n",
    "        start_pitch_class_3.append(df_pitch.loc[starting_pitcher][\"IP\"])\n",
    "        start_pitch_class_4.append(df_pitch.loc[starting_pitcher][\"ERA+\"])\n",
    "        start_pitch_class_5.append(df_pitch.loc[starting_pitcher][\"FIP\"])\n",
    "        start_pitch_class_6.append(df_pitch.loc[starting_pitcher][\"WHIP\"])\n",
    "        start_pitch_class_7.append(df_pitch.loc[starting_pitcher][\"H9\"])\n",
    "        start_pitch_class_8.append(df_pitch.loc[starting_pitcher][\"HR9\"])\n",
    "        start_pitch_class_9.append(df_pitch.loc[starting_pitcher][\"BB9\"])\n",
    "        start_pitch_class_10.append(df_pitch.loc[starting_pitcher][\"SO9\"])\n",
    "        start_pitch_class_11.append(df_pitch.loc[starting_pitcher][\"SO/W\"])\n",
    "    else:\n",
    "        Print(\"Starting Pitcher Not Found\")\n",
    "    \n",
    "        \n",
    "        \n",
    "    # gathering batting metrics from pitchers' team\n",
    "    if opposing_pitcher in df_pitch.index:\n",
    "        opp_team_name = df_pitch.loc[opposing_pitcher][\"Tm\"]\n",
    "    \n",
    "    if opp_team_name in df_bat.index:\n",
    "        opp_team_metrics = df_bat.loc[opp_team_name]\n",
    "        \n",
    "    opp_team = pd.DataFrame(opp_team_metrics)\n",
    "    opp_team = opp_team.transpose()\n",
    "    opp_team[\"key\"] = 1\n",
    "\n",
    "    if starting_pitcher in df_pitch.index:\n",
    "        team_name = df_pitch.loc[opposing_pitcher][\"Tm\"]\n",
    "    \n",
    "    if team_name in df_bat.index:\n",
    "        team = df_bat.loc[team_name]\n",
    "        \n",
    "    team = pd.DataFrame(team)\n",
    "    team = team.transpose()\n",
    "    team[\"key\"] = 1    \n",
    "    \n",
    "    \n",
    "    # gathering distance between teams\n",
    "    distance = get_home_away_distance_in_miles(team_name, opp_team_name)\n",
    "    \n",
    "    if home_or_away == \"Home\":\n",
    "        team[\"Distance\"] = distance\n",
    "    else:\n",
    "        team[\"Distance\"] = (distance * -1)\n",
    "    \n",
    "        \n",
    "    # creating a dataframe to combine all the pitching metrics    \n",
    "    pitching_metrics = pd.DataFrame(\n",
    "    {     \n",
    "        \"ERA-Starting\" : start_pitch_class,\n",
    "        \"ERA-Opposing\" : opp_pitch_class,\n",
    "        \"CG-Starting\" : start_pitch_class_2,\n",
    "        \"CG-Opposing\" : opp_pitch_class_2,\n",
    "        \"IP-Starting\" : start_pitch_class_3,\n",
    "        \"IP-Opposing\" : opp_pitch_class_3,\n",
    "        \"ERA+-Starting\" : start_pitch_class_4,\n",
    "        \"ERA+-Opposing\" : opp_pitch_class_4,\n",
    "        \"FIP-Starting\" : start_pitch_class_5,\n",
    "        \"FIP-Opposing\" : opp_pitch_class_5,\n",
    "        \"WHIP-Starting\" : start_pitch_class_6,\n",
    "        \"WHIP-Opposing\" : opp_pitch_class_6,\n",
    "        \"H9-Starting\" : start_pitch_class_7,\n",
    "        \"H9-Opposing\" : opp_pitch_class_7,\n",
    "        \"HR9-Starting\" : start_pitch_class_8,\n",
    "        \"HR9-Opposing\" : opp_pitch_class_8,\n",
    "        \"BB9-Starting\" : start_pitch_class_9,\n",
    "        \"BB9-Opposing\" : opp_pitch_class_9,\n",
    "        \"SO9-Starting\" : start_pitch_class_10,\n",
    "        \"SO9-Opposing\" : opp_pitch_class_10,\n",
    "        \"SO/W-Starting\" : start_pitch_class_11,\n",
    "        \"SO/W-Opposing\" : opp_pitch_class_10,\n",
    "        \"key\" : 1\n",
    "    })\n",
    "    \n",
    "    \n",
    "    # creating test data to run through model\n",
    "    batting_metrics = pd.merge(team, opp_team, on='key')\n",
    "    test_data = pd.merge(batting_metrics, pitching_metrics, on=\"key\")\n",
    "    test_data.drop([\"key\"], axis=1, inplace = True)\n",
    "    \n",
    "    # testing to see what the results look like before running a model\n",
    "    # it works, I can comment this out\n",
    "    # result = test_data\n",
    "    \n",
    "    # running our model\n",
    "    result = model.predict(test_data)\n",
    "    \n",
    "    #printing out our prediction\n",
    "    return result"
   ]
  },
  {
   "cell_type": "markdown",
   "metadata": {},
   "source": [
    "## importing files for win/loss\n"
   ]
  },
  {
   "cell_type": "code",
   "execution_count": null,
   "metadata": {},
   "outputs": [],
   "source": [
    "df_2019 = pd.read_csv(Path(\"random.txt\"))\n",
    "df_2019 = df_2019[[\"Opp\", \"Result\", \"Starting Pitcher\", \"Opposing Pitcher\", \"Game Date\"]]\n",
    "\n",
    "true_w = df_2019[\"Result\"].str.contains('W', na=True)\n",
    "count = 0\n",
    "Result = []\n",
    "for row in df_2019.index:\n",
    "    if true_w[row]:\n",
    "        Result.append(1)\n",
    "    else:\n",
    "        Result.append(0)\n",
    "        \n",
    "        \n",
    "        \n",
    "true_w = df_2019[\"Result\"].str.contains('W', na=True)\n",
    "\n",
    "df_2019[\"Result\"] = Result\n",
    "df_2019 = df_2019.set_index(\"Opp\")\n",
    "\n",
    "df_2019"
   ]
  },
  {
   "cell_type": "code",
   "execution_count": null,
   "metadata": {},
   "outputs": [],
   "source": [
    "df_2018 = pd.read_csv(Path(\"2018result.txt\"))\n",
    "df_2018 = df_2018[[\"Opp\", \"Result\", \"Starting Pitcher\", \"Opposing Pitcher\", \"Game Date\"]]\n",
    "\n",
    "true_w = df_2018[\"Result\"].str.contains('W', na=True)\n",
    "count = 0\n",
    "Result = []\n",
    "for row in df_2018.index:\n",
    "    if true_w[row]:\n",
    "        Result.append(1)\n",
    "    else:\n",
    "        Result.append(0)\n",
    "        \n",
    "df_2018[\"Result\"] = Result\n",
    "df_2018 = df_2018.set_index(\"Opp\")\n",
    "\n",
    "df_2018"
   ]
  },
  {
   "cell_type": "code",
   "execution_count": null,
   "metadata": {},
   "outputs": [],
   "source": [
    "df_combined = pd.concat([df_2019,df_2018])\n",
    "df_combined"
   ]
  },
  {
   "cell_type": "markdown",
   "metadata": {},
   "source": [
    "## importing pitching data"
   ]
  },
  {
   "cell_type": "code",
   "execution_count": null,
   "metadata": {},
   "outputs": [],
   "source": [
    "df_pitch_2019 = pd.read_csv(Path(\"mlb-player-stats-P.csv\"))\n",
    "df_pitch_2019.set_index([\"Player\"], inplace = True)\n",
    "df_pitch_2019 = df_pitch_2019.drop(columns = [\"Team\"])\n",
    "df_pitch_2019 = df_pitch_2019.groupby(level=0).mean()\n",
    "\n",
    "df_pitch_2019.head(10)"
   ]
  },
  {
   "cell_type": "code",
   "execution_count": null,
   "metadata": {},
   "outputs": [],
   "source": [
    "from sklearn.cluster import KMeans\n",
    "\n",
    "inertia = []\n",
    "k = list(range(1, 11))\n",
    "\n",
    "for i in k:\n",
    "    km = KMeans(n_clusters=i, random_state=5)\n",
    "    km.fit(df_pitch_2019)\n",
    "    inertia.append(km.inertia_)\n",
    "\n",
    "# Define a DataFrame to plot the Elbow Curve using hvPlot\n",
    "elbow_data = {\"k\": k, \"inertia\": inertia}\n",
    "df_elbow = pd.DataFrame(elbow_data)\n",
    "df_elbow.hvplot.line(x=\"k\", y=\"inertia\", title=\"Elbow Curve\", xticks=k)"
   ]
  },
  {
   "cell_type": "code",
   "execution_count": null,
   "metadata": {},
   "outputs": [],
   "source": [
    "model = KMeans(n_clusters=3, random_state=7)\n",
    "model.fit(df_pitch_2019)\n",
    "predictions = model.predict(df_pitch_2019)\n",
    "df_pitch_2019[\"class\"] = model.labels_\n",
    "df_pitch_2019.head()"
   ]
  },
  {
   "cell_type": "code",
   "execution_count": null,
   "metadata": {},
   "outputs": [],
   "source": [
    "df_pitch_2019.to_csv(Path(\"../Data Prep/Vu/Data/misc/test_pitch_df.csv\"))"
   ]
  },
  {
   "cell_type": "code",
   "execution_count": null,
   "metadata": {},
   "outputs": [],
   "source": [
    "df_pitch_2018 = pd.read_csv(Path(\"mlb-player-stats-P2018.csv\"))\n",
    "df_pitch_2018.set_index([\"Player\"], inplace = True)\n",
    "df_pitch_2018 = df_pitch_2018.drop(columns = [\"Team\"])\n",
    "df_pitch_2018 = df_pitch_2018.groupby(level=0).mean()\n",
    "\n",
    "df_pitch_2018.head(7)"
   ]
  },
  {
   "cell_type": "code",
   "execution_count": null,
   "metadata": {},
   "outputs": [],
   "source": [
    "inertia = []\n",
    "k = list(range(1, 11))\n",
    "\n",
    "# Looking for the best k\n",
    "for i in k:\n",
    "    km = KMeans(n_clusters=i, random_state=5)\n",
    "    km.fit(df_pitch_2018)\n",
    "    inertia.append(km.inertia_)\n",
    "\n",
    "# Define a DataFrame to plot the Elbow Curve using hvPlot\n",
    "elbow_data = {\"k\": k, \"inertia\": inertia}\n",
    "df_elbow = pd.DataFrame(elbow_data)\n",
    "df_elbow.hvplot.line(x=\"k\", y=\"inertia\", title=\"Elbow Curve\", xticks=k)"
   ]
  },
  {
   "cell_type": "code",
   "execution_count": null,
   "metadata": {},
   "outputs": [],
   "source": [
    "model = KMeans(n_clusters=3, random_state=7)\n",
    "model.fit(df_pitch_2018)\n",
    "predictions = model.predict(df_pitch_2018)\n",
    "df_pitch_2018[\"class\"] = model.labels_\n",
    "df_pitch_2018.head()"
   ]
  },
  {
   "cell_type": "code",
   "execution_count": null,
   "metadata": {},
   "outputs": [],
   "source": [
    "df_pitch_combined = pd.concat([df_pitch_2018, df_pitch_2019])"
   ]
  },
  {
   "cell_type": "code",
   "execution_count": null,
   "metadata": {},
   "outputs": [],
   "source": [
    "inertia = []\n",
    "k = list(range(1, 11))\n",
    "\n",
    "# Looking for the best k\n",
    "for i in k:\n",
    "    km = KMeans(n_clusters=i, random_state=5)\n",
    "    km.fit(df_pitch_combined)\n",
    "    inertia.append(km.inertia_)\n",
    "\n",
    "# Define a DataFrame to plot the Elbow Curve using hvPlot\n",
    "elbow_data = {\"k\": k, \"inertia\": inertia}\n",
    "df_elbow = pd.DataFrame(elbow_data)\n",
    "df_elbow.hvplot.line(x=\"k\", y=\"inertia\", title=\"Elbow Curve\", xticks=k)"
   ]
  },
  {
   "cell_type": "code",
   "execution_count": null,
   "metadata": {},
   "outputs": [],
   "source": [
    "model = KMeans(n_clusters=3, random_state=7)\n",
    "model.fit(df_pitch_combined)\n",
    "predictions = model.predict(df_pitch_combined)\n",
    "df_pitch_combined[\"class\"] = model.labels_\n",
    "df_pitch_combined.head()"
   ]
  },
  {
   "cell_type": "code",
   "execution_count": null,
   "metadata": {},
   "outputs": [],
   "source": [
    "df_pitch_combined.to_csv(Path(\"df_pitch.csv\"), index = True, header=True)"
   ]
  },
  {
   "cell_type": "markdown",
   "metadata": {},
   "source": [
    "## importing batter data\n"
   ]
  },
  {
   "cell_type": "code",
   "execution_count": null,
   "metadata": {},
   "outputs": [],
   "source": [
    "df_bat_2018 = pd.read_csv(Path(\"df_bat_2018.csv\"))\n",
    "df_bat_2019 = pd.read_csv(Path(\"df_bat_2019.csv\"))"
   ]
  },
  {
   "cell_type": "code",
   "execution_count": null,
   "metadata": {},
   "outputs": [],
   "source": [
    "df_bat_2019.set_index(\"Team\",inplace=True)\n",
    "df_bat_2018.set_index(\"Team\",inplace=True)"
   ]
  },
  {
   "cell_type": "code",
   "execution_count": null,
   "metadata": {},
   "outputs": [],
   "source": [
    "df_bat_combined = pd.concat([df_bat_2018, df_bat_2019])\n",
    "df_bat_combined = df_bat_combined.groupby(level=0).mean()\n",
    "df_bat_combined = df_bat_combined[[\"SO\", \"AVG\", \"HBP\", \"SH\", \"HR\", \"RBI\", \"R\", \"H\"]]\n",
    "\n",
    "df_bat_combined.head()"
   ]
  },
  {
   "cell_type": "code",
   "execution_count": null,
   "metadata": {},
   "outputs": [],
   "source": [
    "df_hou = df_bat_combined.loc[\"HOU\"]\n",
    "df_hou = pd.DataFrame(df_hou)\n",
    "df_hou = df_hou.transpose()\n",
    "df_hou.rename(columns = {\n",
    "    \"SO\" : \"Astros-SO\", \n",
    "    \"AVG\" : \"Astros-AVG\", \n",
    "    \"HBP\" : \"Astros-HBP\", \n",
    "    \"SH\" : \"Astros-SH\", \n",
    "    \"HR\" : \"Astros-HR\", \n",
    "    \"RBI\" : \"Astros-RBI\", \n",
    "    \"R\" : \"Astros-R\", \n",
    "    \"H\" : \"Astros-H\"\n",
    "}, inplace=True)\n",
    "df_hou.head()"
   ]
  },
  {
   "cell_type": "markdown",
   "metadata": {},
   "source": [
    "## Home/Away Data"
   ]
  },
  {
   "cell_type": "code",
   "execution_count": null,
   "metadata": {},
   "outputs": [],
   "source": [
    "df_home_2018 = pd.read_csv(Path(\"2018wl.txt\"))\n",
    "df_home_2019 = pd.read_csv(Path(\"2019wl.txt\"))\n",
    "df_home_2018.head()"
   ]
  },
  {
   "cell_type": "code",
   "execution_count": null,
   "metadata": {},
   "outputs": [],
   "source": [
    "df_home_2019 = df_home_2019[[\"Hm/Aw\", \"Opp\", \"Game Date\"]]\n",
    "df_home_2019 = df_home_2019.set_index(\"Opp\")\n",
    "\n",
    "df_home_2018 = df_home_2018[[\"Hm/Aw\", \"Opp\", \"Game Date\"]]\n",
    "df_home_2018 = df_home_2018.set_index(\"Opp\")\n"
   ]
  },
  {
   "cell_type": "code",
   "execution_count": null,
   "metadata": {},
   "outputs": [],
   "source": [
    "df_home_away_merge = pd.concat([df_home_2019, df_home_2018])"
   ]
  },
  {
   "cell_type": "code",
   "execution_count": null,
   "metadata": {},
   "outputs": [],
   "source": [
    "df_combined.reset_index(inplace = True)"
   ]
  },
  {
   "cell_type": "code",
   "execution_count": null,
   "metadata": {},
   "outputs": [],
   "source": [
    "df_home_away_merge.reset_index(inplace = True)"
   ]
  },
  {
   "cell_type": "code",
   "execution_count": null,
   "metadata": {},
   "outputs": [],
   "source": [
    "df_home_away_merge = df_home_away_merge.set_index(\"Game Date\")\n",
    "df_combined = df_combined.set_index(\"Game Date\")"
   ]
  },
  {
   "cell_type": "code",
   "execution_count": null,
   "metadata": {},
   "outputs": [],
   "source": [
    "merge = pd.merge(df_combined, df_home_away_merge, left_index=True, right_index=True)\n",
    "\n",
    "merge.dropna(inplace=True)\n",
    "merge"
   ]
  },
  {
   "cell_type": "code",
   "execution_count": null,
   "metadata": {},
   "outputs": [],
   "source": [
    "merge.to_csv(Path(\"Results.csv\"), index = True, header=True)"
   ]
  },
  {
   "cell_type": "markdown",
   "metadata": {},
   "source": [
    "## combining all the dataframes"
   ]
  },
  {
   "cell_type": "code",
   "execution_count": null,
   "metadata": {},
   "outputs": [],
   "source": [
    "merge = pd.merge(df_combined, df_bat_combined, left_index=True, right_index=True)\n"
   ]
  },
  {
   "cell_type": "code",
   "execution_count": null,
   "metadata": {},
   "outputs": [],
   "source": [
    "merge[\"HM/AW\"] ="
   ]
  },
  {
   "cell_type": "code",
   "execution_count": null,
   "metadata": {},
   "outputs": [],
   "source": [
    "df_hou['key'] = 1\n",
    "merge['key'] = 1\n",
    "df = pd.merge(df_hou, merge, on='key')\n",
    "del df['key']\n",
    "merge = df"
   ]
  },
  {
   "cell_type": "code",
   "execution_count": null,
   "metadata": {},
   "outputs": [],
   "source": [
    "random_number = list(range(len(merge)))"
   ]
  },
  {
   "cell_type": "code",
   "execution_count": null,
   "metadata": {},
   "outputs": [],
   "source": [
    "opp_pitch_class = []\n",
    "opp_pitch_class_2 = []\n",
    "opp_pitch_class_3 = []\n",
    "\n",
    "for number in random_number:\n",
    "    if merge[\"Opposing Pitcher\"][number] in df_pitch_combined.index:\n",
    "        name = merge[\"Opposing Pitcher\"][number]\n",
    "        opp_pitch_class.append(df_pitch_combined.loc[name][\"ERA\"])\n",
    "        opp_pitch_class_2.append(df_pitch_combined.loc[name][\"WHIP\"])\n",
    "        opp_pitch_class_3.append(df_pitch_combined.loc[name][\"K\"])\n",
    "    else:\n",
    "        print(merge[\"Opposing Pitcher\"][number])"
   ]
  },
  {
   "cell_type": "code",
   "execution_count": null,
   "metadata": {},
   "outputs": [],
   "source": [
    "opp_pitch_class = []\n",
    "opp_pitch_class_2 = []\n",
    "opp_pitch_class_3 = []\n",
    "\n",
    "for number in random_number:\n",
    "    if merge[\"Opposing Pitcher\"][number] in df_pitch_combined.index:\n",
    "        name = merge[\"Opposing Pitcher\"][number]\n",
    "        opp_pitch_class.append(df_pitch_combined.loc[name][\"class\"])\n",
    "    else:\n",
    "        print(merge[\"Opposing Pitcher\"][number])"
   ]
  },
  {
   "cell_type": "code",
   "execution_count": null,
   "metadata": {},
   "outputs": [],
   "source": [
    "start_pitch_class = []\n",
    "start_pitch_class_2 = []\n",
    "start_pitch_class_3 = []\n",
    "\n",
    "for number in random_number:\n",
    "    if merge[\"Starting Pitcher\"][number] in df_pitch_combined.index:\n",
    "        name = merge[\"Starting Pitcher\"][number]\n",
    "        start_pitch_class.append(df_pitch_combined.loc[name][\"ERA\"])\n",
    "        start_pitch_class_2.append(df_pitch_combined.loc[name][\"WHIP\"])\n",
    "        start_pitch_class_3.append(df_pitch_combined.loc[name][\"K\"])\n",
    "    else:\n",
    "        print(merge[\"Starting Pitcher\"][number])"
   ]
  },
  {
   "cell_type": "code",
   "execution_count": null,
   "metadata": {},
   "outputs": [],
   "source": [
    "start_pitch_class = []\n",
    "start_pitch_class_2 = []\n",
    "start_pitch_class_3 = []\n",
    "\n",
    "for number in random_number:\n",
    "    if merge[\"Starting Pitcher\"][number] in df_pitch_combined.index:\n",
    "        name = merge[\"Starting Pitcher\"][number]\n",
    "        start_pitch_class.append(df_pitch_combined.loc[name][\"class\"])\n",
    "    else:\n",
    "        print(merge[\"Starting Pitcher\"][number])"
   ]
  },
  {
   "cell_type": "code",
   "execution_count": null,
   "metadata": {},
   "outputs": [],
   "source": [
    "merge[\"ERA-Starting \"] = start_pitch_class\n",
    "merge[\"ERA-Opposing\"] = opp_pitch_class\n",
    "\n",
    "merge[\"WHIP-Starting\"] = start_pitch_class_2\n",
    "merge[\"WHIP-Opposing\"] = opp_pitch_class_2\n",
    "\n",
    "merge[\"K-Starting\"] = start_pitch_class_2\n",
    "merge[\"K-Opposing\"] = opp_pitch_class_2"
   ]
  },
  {
   "cell_type": "code",
   "execution_count": null,
   "metadata": {},
   "outputs": [],
   "source": [
    "merge[\"Starting Pitcher\"] = start_pitch_class\n",
    "merge[\"Opposing Pitcher\"] = opp_pitch_class"
   ]
  },
  {
   "cell_type": "code",
   "execution_count": null,
   "metadata": {},
   "outputs": [],
   "source": [
    "merge.drop([\"Starting Pitcher\"], axis=1, inplace=True)\n",
    "merge.drop([\"Opposing Pitcher\"], axis=1, inplace=True)"
   ]
  },
  {
   "cell_type": "code",
   "execution_count": null,
   "metadata": {},
   "outputs": [],
   "source": [
    "for col in merge.columns: \n",
    "    print(col) "
   ]
  },
  {
   "cell_type": "markdown",
   "metadata": {},
   "source": [
    "## Running models"
   ]
  },
  {
   "cell_type": "code",
   "execution_count": null,
   "metadata": {},
   "outputs": [],
   "source": [
    "X = merge.copy()\n",
    "X.drop([\"Result\"], axis=1, inplace=True)\n",
    "\n",
    "y = merge[\"Result\"].ravel()\n",
    "X_train, X_test, y_train, y_test = train_test_split(X, y, random_state=87)\n",
    "\n",
    "X_scaler = StandardScaler()\n",
    "X_scaler.fit(X_train)\n",
    "X_train_scaled = X_scaler.transform(X_train)\n",
    "X_test_scaled = X_scaler.transform(X_test)"
   ]
  },
  {
   "cell_type": "markdown",
   "metadata": {},
   "source": [
    "## Model 1 = Random Forest Classifier"
   ]
  },
  {
   "cell_type": "code",
   "execution_count": null,
   "metadata": {},
   "outputs": [],
   "source": [
    "from imblearn.ensemble import BalancedRandomForestClassifier\n",
    "from sklearn.metrics import balanced_accuracy_score\n",
    "from sklearn.metrics import confusion_matrix\n",
    "from imblearn.metrics import classification_report_imbalanced\n",
    "\n",
    "model = BalancedRandomForestClassifier(random_state=1)\n",
    "model = model.fit(X_train, y_train)\n",
    "\n",
    "y_pred = model.predict(X_test)\n",
    "balanced_accuracy_score(y_test, y_pred)\n",
    "\n",
    "predictions = model.predict(X_test)\n",
    "results = pd.DataFrame({\"Prediction\": predictions,\"Actual\": y_test}).reset_index(drop=True)\n",
    "confusion_matrix(y_test, predictions)\n",
    "\n",
    "print(classification_report_imbalanced(y_test, y_pred))"
   ]
  },
  {
   "cell_type": "code",
   "execution_count": null,
   "metadata": {},
   "outputs": [],
   "source": [
    "predictions = model.predict(X_test)\n",
    "results = pd.DataFrame({\"Prediction\": predictions,\n",
    "                        \"Actual\": y_test}).reset_index(drop=True)\n",
    "balanced_accuracy_score(y_test, predictions)"
   ]
  },
  {
   "cell_type": "code",
   "execution_count": null,
   "metadata": {},
   "outputs": [],
   "source": [
    "# Random Forests in sklearn will automatically calculate feature importance\n",
    "importances = rf_model.feature_importances_\n",
    "\n",
    "# We can sort the features by their importance\n",
    "sorted(zip(rf_model.feature_importances_, X.columns), reverse=True)\n",
    "\n",
    "# Visualize the features by importance\n",
    "importances_df = pd.DataFrame(sorted(zip(rf_model.feature_importances_, X.columns), reverse=True))\n",
    "importances_df.set_index(importances_df[1], inplace=True)\n",
    "importances_df.drop(columns=1, inplace=True)\n",
    "importances_df.rename(columns={0: 'Feature Importances'}, inplace=True)\n",
    "importances_sorted = importances_df.sort_values(by='Feature Importances')\n",
    "importances_sorted.plot(kind='barh', color='lightgreen', title= 'Features Importances', legend=False)\n",
    "\n"
   ]
  },
  {
   "cell_type": "markdown",
   "metadata": {},
   "source": [
    "## Model 2 = Decision Tree"
   ]
  },
  {
   "cell_type": "code",
   "execution_count": null,
   "metadata": {},
   "outputs": [],
   "source": [
    "from sklearn import tree, preprocessing\n",
    "from sklearn.tree import DecisionTreeClassifier\n",
    "\n",
    "model = tree.DecisionTreeClassifier()\n",
    "model.fit(X_train, y_train)\n",
    "y_pred = model.predict(X_test)\n",
    "print(classification_report(y_test, y_pred))"
   ]
  },
  {
   "cell_type": "code",
   "execution_count": null,
   "metadata": {},
   "outputs": [],
   "source": [
    "predictions = model.predict(X_test)\n",
    "results = pd.DataFrame({\"Prediction\": predictions,\n",
    "                        \"Actual\": y_test}).reset_index(drop=True)\n",
    "balanced_accuracy_score(y_test, predictions)"
   ]
  },
  {
   "cell_type": "markdown",
   "metadata": {},
   "source": [
    "## Model 3 - K Neighbors"
   ]
  },
  {
   "cell_type": "code",
   "execution_count": null,
   "metadata": {},
   "outputs": [],
   "source": [
    "from sklearn.neighbors import KNeighborsClassifier\n",
    "\n",
    "knn = KNeighborsClassifier()"
   ]
  },
  {
   "cell_type": "code",
   "execution_count": null,
   "metadata": {},
   "outputs": [],
   "source": [
    "knn.fit(X_train,y_train)\n",
    "predictions = knn.predict(X_test)\n",
    "results = pd.DataFrame({\"Prediction\": predictions,\n",
    "                        \"Actual\": y_test}).reset_index(drop=True)\n",
    "balanced_accuracy_score(y_test, predictions)"
   ]
  },
  {
   "cell_type": "markdown",
   "metadata": {},
   "source": [
    "## Model 4 - XGBoost"
   ]
  },
  {
   "cell_type": "code",
   "execution_count": null,
   "metadata": {},
   "outputs": [],
   "source": [
    "from xgboost import XGBClassifier\n",
    "\n",
    "model = XGBClassifier()\n",
    "model.fit(X_train, y_train)\n",
    "\n",
    "y_pred = model.predict(X_test)\n",
    "predictions = [round(value) for value in y_pred]\n",
    "accuracy = accuracy_score(y_test, predictions)\n",
    "accuracy"
   ]
  },
  {
   "cell_type": "code",
   "execution_count": null,
   "metadata": {},
   "outputs": [],
   "source": [
    "y_pred"
   ]
  },
  {
   "cell_type": "code",
   "execution_count": null,
   "metadata": {},
   "outputs": [],
   "source": [
    "X_test"
   ]
  },
  {
   "cell_type": "markdown",
   "metadata": {},
   "source": [
    "## Additional testing"
   ]
  },
  {
   "cell_type": "code",
   "execution_count": null,
   "metadata": {},
   "outputs": [],
   "source": [
    "file_path = Path(\"mlb-player-stats-Batters.csv\")\n",
    "df_bat = pd.read_csv(file_path)\n",
    "df_bat = df_bat.drop(columns = [\"Player\"])\n",
    "df_bat.head()"
   ]
  },
  {
   "cell_type": "code",
   "execution_count": null,
   "metadata": {},
   "outputs": [],
   "source": [
    "df_bat_avg = df_bat.groupby(by = \"Team\").mean()"
   ]
  },
  {
   "cell_type": "code",
   "execution_count": null,
   "metadata": {},
   "outputs": [],
   "source": [
    "df_bat_avg = df_bat_avg[[\"SO\", \"AVG\", \"HBP\", \"SH\", \"HR\", \"RBI\", \"AVG\", \"R\"]]"
   ]
  },
  {
   "cell_type": "code",
   "execution_count": null,
   "metadata": {},
   "outputs": [],
   "source": [
    "df_bat_avg.head()"
   ]
  },
  {
   "cell_type": "code",
   "execution_count": null,
   "metadata": {},
   "outputs": [],
   "source": [
    "df_new.set_index([\"Opp\"], inplace = True)"
   ]
  },
  {
   "cell_type": "code",
   "execution_count": null,
   "metadata": {},
   "outputs": [],
   "source": [
    "merge = pd.merge(df_new, df_bat_avg, left_index=True, right_index=True)\n"
   ]
  },
  {
   "cell_type": "code",
   "execution_count": null,
   "metadata": {},
   "outputs": [],
   "source": [
    "df.loc[\"Andrew Cashner\"][\"class\"]"
   ]
  },
  {
   "cell_type": "code",
   "execution_count": null,
   "metadata": {},
   "outputs": [],
   "source": [
    "ux = list(range(len(merge)))"
   ]
  },
  {
   "cell_type": "code",
   "execution_count": null,
   "metadata": {},
   "outputs": [],
   "source": [
    "merge[\"Opposing Pitcher\"][0]\n",
    "# df.loc[\"Justin Verlander\"][\"class\"]\n",
    "\n",
    "new_list = []\n",
    "for number in ux:\n",
    "#     print(number)\n",
    "#     print(merge[\"Opposing Pitcher\"][number])\n",
    "    if merge[\"Opposing Pitcher\"][number] in df.index:\n",
    "        name = merge[\"Opposing Pitcher\"][number]\n",
    "        new_list.append(df.loc[name][\"class\"])\n",
    "#         merge[\"Opposing Pitcher\"][number] = df.loc[name][\"class\"]\n",
    "    else:\n",
    "        print(merge[\"Opposing Pitcher\"][number])"
   ]
  },
  {
   "cell_type": "code",
   "execution_count": null,
   "metadata": {},
   "outputs": [],
   "source": [
    "old_list = []\n",
    "for number in ux:\n",
    "#     print(number)\n",
    "#     print(merge[\"Opposing Pitcher\"][number])\n",
    "    if merge[\"Starting Pitcher\"][number] in df.index:\n",
    "        name = merge[\"Starting Pitcher\"][number]\n",
    "        old_list.append(df.loc[name][\"class\"])\n",
    "#         merge[\"Starting Pitcher\"][number] = df.loc[name][\"class\"]\n",
    "    else:\n",
    "        print(merge[\"Starting Pitcher\"][number])"
   ]
  },
  {
   "cell_type": "code",
   "execution_count": null,
   "metadata": {},
   "outputs": [],
   "source": [
    "merge[\"Starting Pitcher\"] = old_list\n",
    "merge[\"Opposing Pitcher\"] = new_list"
   ]
  },
  {
   "cell_type": "code",
   "execution_count": null,
   "metadata": {},
   "outputs": [],
   "source": [
    "merge.head()"
   ]
  },
  {
   "cell_type": "code",
   "execution_count": null,
   "metadata": {},
   "outputs": [],
   "source": [
    "X = merge.copy()\n",
    "X.drop([\"Result\"], axis=1, inplace=True)\n",
    "\n",
    "y = merge[\"Result\"].ravel()\n",
    "y"
   ]
  },
  {
   "cell_type": "code",
   "execution_count": null,
   "metadata": {},
   "outputs": [],
   "source": [
    "# Splitting into Train and Test sets\n",
    "X_train, X_test, y_train, y_test = train_test_split(X, y, random_state=1)\n",
    "\n",
    "# Creating StandardScaler instance\n",
    "scaler = StandardScaler()\n",
    "\n",
    "# Fitting Standard Scaller\n",
    "X_scaler = scaler.fit(X_train)\n",
    "\n",
    "# Scaling data\n",
    "X_train_scaled = X_scaler.transform(X_train)\n",
    "X_test_scaled = X_scaler.transform(X_test)\n",
    "\n",
    "# Create a random forest classifier\n",
    "rf_model = RandomForestClassifier(n_estimators=500, random_state=1)\n",
    "\n",
    "# Fitting the model\n",
    "rf_model = rf_model.fit(X_train_scaled, y_train)\n",
    "\n",
    "# Making predictions using the testing data\n",
    "predictions = rf_model.predict(X_test_scaled)\n",
    "\n",
    "# Calculating the confusion matrix\n",
    "# cm = confusion_matrix(y_test, predictions)\n",
    "# cm_df = pd.DataFrame(\n",
    "#     cm, index=[\"Actual 0\", \"Actual 1\"], columns=[\"Predicted 0\", \"Predicted 1\"]\n",
    "# )\n",
    "\n",
    "# Calculating the accuracy score\n",
    "acc_score = accuracy_score(y_test, predictions)\n",
    "\n",
    "# Random Forests in sklearn will automatically calculate feature importance\n",
    "importances = rf_model.feature_importances_\n",
    "\n",
    "# We can sort the features by their importance\n",
    "sorted(zip(rf_model.feature_importances_, X.columns), reverse=True)\n",
    "\n",
    "# Visualize the features by importance\n",
    "importances_df = pd.DataFrame(sorted(zip(rf_model.feature_importances_, X.columns), reverse=True))\n",
    "importances_df.set_index(importances_df[1], inplace=True)\n",
    "importances_df.drop(columns=1, inplace=True)\n",
    "importances_df.rename(columns={0: 'Feature Importances'}, inplace=True)\n",
    "importances_sorted = importances_df.sort_values(by='Feature Importances')\n",
    "importances_sorted.plot(kind='barh', color='lightgreen', title= 'Features Importances', legend=False)"
   ]
  },
  {
   "cell_type": "code",
   "execution_count": null,
   "metadata": {},
   "outputs": [],
   "source": [
    "from imblearn.ensemble import BalancedRandomForestClassifier\n",
    "from sklearn.metrics import balanced_accuracy_score\n",
    "from sklearn.metrics import confusion_matrix\n",
    "from imblearn.metrics import classification_report_imbalanced\n",
    "\n",
    "model = BalancedRandomForestClassifier(random_state=1)\n",
    "model = model.fit(X_train, y_train)\n",
    "\n",
    "y_pred = model.predict(X_test)\n",
    "balanced_accuracy_score(y_test, y_pred)\n",
    "\n",
    "predictions = model.predict(X_test)\n",
    "results = pd.DataFrame({\"Prediction\": predictions,\"Actual\": y_test}).reset_index(drop=True)\n",
    "confusion_matrix(y_test, predictions)\n",
    "\n",
    "print(classification_report_imbalanced(y_test, y_pred))\n"
   ]
  },
  {
   "cell_type": "code",
   "execution_count": null,
   "metadata": {},
   "outputs": [],
   "source": [
    "predictions = model.predict(X_test)\n",
    "results = pd.DataFrame({\"Prediction\": predictions,\n",
    "                        \"Actual\": y_test}).reset_index(drop=True)\n",
    "balanced_accuracy_score(y_test, predictions)"
   ]
  },
  {
   "cell_type": "code",
   "execution_count": null,
   "metadata": {},
   "outputs": [],
   "source": [
    "from sklearn import tree, preprocessing\n",
    "from sklearn.tree import DecisionTreeClassifier\n",
    "\n",
    "model = tree.DecisionTreeClassifier()\n",
    "model.fit(X_train, y_train)\n",
    "y_pred = model.predict(X_test)\n",
    "print(classification_report(y_test, y_pred))"
   ]
  },
  {
   "cell_type": "code",
   "execution_count": null,
   "metadata": {},
   "outputs": [],
   "source": [
    "predictions = model.predict(X_test)\n",
    "results = pd.DataFrame({\"Prediction\": predictions,\n",
    "                        \"Actual\": y_test}).reset_index(drop=True)\n",
    "balanced_accuracy_score(y_test, predictions)"
   ]
  },
  {
   "cell_type": "markdown",
   "metadata": {},
   "source": [
    "## Model 5 - Linear Regression"
   ]
  },
  {
   "cell_type": "code",
   "execution_count": null,
   "metadata": {},
   "outputs": [],
   "source": [
    "from sklearn.linear_model import LinearRegression\n",
    "model = LinearRegression()\n",
    "model.fit(X_train, y_train)"
   ]
  },
  {
   "cell_type": "code",
   "execution_count": null,
   "metadata": {},
   "outputs": [],
   "source": [
    "predicted_y_values = model.predict(X_test)\n"
   ]
  },
  {
   "cell_type": "code",
   "execution_count": null,
   "metadata": {},
   "outputs": [],
   "source": [
    "predictions = model.predict(X_test)\n",
    "results = pd.DataFrame({\"Prediction\": predictions,\n",
    "                        \"Actual\": y_test}).reset_index(drop=True)\n",
    "balanced_accuracy_score(y_test, predictions)"
   ]
  },
  {
   "cell_type": "code",
   "execution_count": null,
   "metadata": {},
   "outputs": [],
   "source": []
  },
  {
   "cell_type": "code",
   "execution_count": null,
   "metadata": {},
   "outputs": [],
   "source": []
  },
  {
   "cell_type": "code",
   "execution_count": null,
   "metadata": {},
   "outputs": [],
   "source": []
  },
  {
   "cell_type": "code",
   "execution_count": null,
   "metadata": {},
   "outputs": [],
   "source": []
  },
  {
   "cell_type": "code",
   "execution_count": null,
   "metadata": {},
   "outputs": [],
   "source": []
  },
  {
   "cell_type": "code",
   "execution_count": null,
   "metadata": {},
   "outputs": [],
   "source": []
  }
 ],
 "metadata": {
  "kernelspec": {
   "display_name": "Python 3",
   "language": "python",
   "name": "python3"
  },
  "language_info": {
   "codemirror_mode": {
    "name": "ipython",
    "version": 3
   },
   "file_extension": ".py",
   "mimetype": "text/x-python",
   "name": "python",
   "nbconvert_exporter": "python",
   "pygments_lexer": "ipython3",
   "version": "3.7.6"
  }
 },
 "nbformat": 4,
 "nbformat_minor": 4
}
